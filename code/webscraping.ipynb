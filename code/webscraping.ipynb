{
 "cells": [
  {
   "cell_type": "markdown",
   "metadata": {},
   "source": [
    "## Webscraping Code\n",
    "All of the images are scraped from https://www.wikiart.org/en/claude-monet/all-works/text-list and saved in the data folder."
   ]
  },
  {
   "cell_type": "code",
   "execution_count": 1,
   "metadata": {},
   "outputs": [],
   "source": [
    "from bs4 import BeautifulSoup\n",
    "import os\n",
    "import requests\n",
    "import pandas as pd"
   ]
  },
  {
   "cell_type": "code",
   "execution_count": 2,
   "metadata": {},
   "outputs": [],
   "source": [
    "DATA_DIR = \"../data/\"\n",
    "ARTIST_URL = \"https://www.wikiart.org/en/claude-monet/all-works/text-list\"\n",
    "PAINTING_URL = 'https://www.wikiart.org{painting_path}'"
   ]
  },
  {
   "cell_type": "code",
   "execution_count": 3,
   "metadata": {},
   "outputs": [],
   "source": [
    "artist_page = requests.get(ARTIST_URL)"
   ]
  },
  {
   "cell_type": "code",
   "execution_count": 4,
   "metadata": {},
   "outputs": [],
   "source": [
    "soup = BeautifulSoup(artist_page.text, 'lxml')"
   ]
  },
  {
   "cell_type": "code",
   "execution_count": 5,
   "metadata": {},
   "outputs": [],
   "source": [
    "painting_paths = []\n",
    "\n",
    "# retreive all rows in painting-list\n",
    "for li in soup.find_all('li', {'class': 'painting-list-text-row'}):\n",
    "\n",
    "    # retrieve all links in the current row\n",
    "    for link in li.find_all('a'):\n",
    "        href = link.get('href')\n",
    "        # store in dictionary\n",
    "        painting_paths.append(href)"
   ]
  },
  {
   "cell_type": "code",
   "execution_count": 17,
   "metadata": {},
   "outputs": [],
   "source": [
    "def download_and_save(painting_url):\n",
    "    r_painting_page = requests.get(painting_url)\n",
    "    soup = BeautifulSoup(r_painting_page.text, 'lxml')\n",
    "    # Initializing list to store image information\n",
    "    \n",
    "\n",
    "    for img in soup.find_all('img', {'class': 'ms-zoom-cursor'}):\n",
    "        img_url = img['src']\n",
    "        img_url = img_url.split('!')[0]\n",
    "        #name\n",
    "        filename = img_url.split('/')[-1]\n",
    "        #date\n",
    "        date_created = soup.find(\"span\", itemprop=\"dateCreated\").text\n",
    "        # Getting style and genre\n",
    "        info = soup.find_all('li', {'class': 'dictionary-values'})\n",
    "        style = info[0].find('a').text\n",
    "        genre = info[1].find('a').text\n",
    "        \n",
    "        # Storing info\n",
    "        image_names.append(filename)\n",
    "        image_dates.append(date_created)\n",
    "        image_styles.append(style)\n",
    "        image_genres.append(genre)\n",
    "    \n",
    "        \n",
    "        \n",
    "        outfile = os.path.join(DATA_DIR, filename)                       \n",
    "        if not os.path.exists(outfile):                        \n",
    "            #print(\"downloading {}: {}\".format(filename, img_url))\n",
    "            r = requests.get(img_url, outfile)\n",
    "            with open(outfile, 'wb') as f:\n",
    "                f.write(r.content)\n",
    "        else:\n",
    "            #print(\"skipping {}\".format(filename))\n",
    "            pass\n",
    "   "
   ]
  },
  {
   "cell_type": "code",
   "execution_count": 18,
   "metadata": {},
   "outputs": [],
   "source": [
    "for path in painting_paths[:10]:\n",
    "    painting_path = PAINTING_URL.format(painting_path=path)\n",
    "    image_names, image_dates, image_styles, image_genres = [], [], [], []\n",
    "    download_and_save(painting_path)"
   ]
  },
  {
   "cell_type": "code",
   "execution_count": 19,
   "metadata": {},
   "outputs": [],
   "source": [
    "images_df = pd.DataFrame({'name': image_names, \n",
    "                      'date': image_dates, \n",
    "                      'style': image_styles, \n",
    "                      'genre': image_genres}\n",
    "                    )"
   ]
  },
  {
   "cell_type": "code",
   "execution_count": 42,
   "metadata": {},
   "outputs": [],
   "source": [
    "def make_lists(path, painting_paths):\n",
    "    image_names, image_dates, image_styles, image_genres = [], [], [], []\n",
    "\n",
    "    for path in painting_paths:\n",
    "        painting_path = PAINTING_URL.format(painting_path=path)\n",
    "        download_and_save(painting_path)"
   ]
  },
  {
   "cell_type": "code",
   "execution_count": 46,
   "metadata": {},
   "outputs": [
    {
     "ename": "AttributeError",
     "evalue": "'NoneType' object has no attribute 'text'",
     "output_type": "error",
     "traceback": [
      "\u001b[0;31m---------------------------------------------------------------------------\u001b[0m",
      "\u001b[0;31mAttributeError\u001b[0m                            Traceback (most recent call last)",
      "\u001b[0;32m<ipython-input-46-354167ecd3b2>\u001b[0m in \u001b[0;36m<module>\u001b[0;34m\u001b[0m\n\u001b[0;32m----> 1\u001b[0;31m \u001b[0mmake_lists\u001b[0m\u001b[0;34m(\u001b[0m\u001b[0mpath\u001b[0m\u001b[0;34m,\u001b[0m \u001b[0mpainting_paths\u001b[0m\u001b[0;34m)\u001b[0m\u001b[0;34m\u001b[0m\u001b[0;34m\u001b[0m\u001b[0m\n\u001b[0m",
      "\u001b[0;32m<ipython-input-42-af66607aaca6>\u001b[0m in \u001b[0;36mmake_lists\u001b[0;34m(path, painting_paths)\u001b[0m\n\u001b[1;32m      4\u001b[0m     \u001b[0;32mfor\u001b[0m \u001b[0mpath\u001b[0m \u001b[0;32min\u001b[0m \u001b[0mpainting_paths\u001b[0m\u001b[0;34m:\u001b[0m\u001b[0;34m\u001b[0m\u001b[0;34m\u001b[0m\u001b[0m\n\u001b[1;32m      5\u001b[0m         \u001b[0mpainting_path\u001b[0m \u001b[0;34m=\u001b[0m \u001b[0mPAINTING_URL\u001b[0m\u001b[0;34m.\u001b[0m\u001b[0mformat\u001b[0m\u001b[0;34m(\u001b[0m\u001b[0mpainting_path\u001b[0m\u001b[0;34m=\u001b[0m\u001b[0mpath\u001b[0m\u001b[0;34m)\u001b[0m\u001b[0;34m\u001b[0m\u001b[0;34m\u001b[0m\u001b[0m\n\u001b[0;32m----> 6\u001b[0;31m         \u001b[0mdownload_and_save\u001b[0m\u001b[0;34m(\u001b[0m\u001b[0mpainting_path\u001b[0m\u001b[0;34m)\u001b[0m\u001b[0;34m\u001b[0m\u001b[0;34m\u001b[0m\u001b[0m\n\u001b[0m",
      "\u001b[0;32m<ipython-input-17-0e369cd9e910>\u001b[0m in \u001b[0;36mdownload_and_save\u001b[0;34m(painting_url)\u001b[0m\n\u001b[1;32m     11\u001b[0m         \u001b[0mfilename\u001b[0m \u001b[0;34m=\u001b[0m \u001b[0mimg_url\u001b[0m\u001b[0;34m.\u001b[0m\u001b[0msplit\u001b[0m\u001b[0;34m(\u001b[0m\u001b[0;34m'/'\u001b[0m\u001b[0;34m)\u001b[0m\u001b[0;34m[\u001b[0m\u001b[0;34m-\u001b[0m\u001b[0;36m1\u001b[0m\u001b[0;34m]\u001b[0m\u001b[0;34m\u001b[0m\u001b[0;34m\u001b[0m\u001b[0m\n\u001b[1;32m     12\u001b[0m         \u001b[0;31m#date\u001b[0m\u001b[0;34m\u001b[0m\u001b[0;34m\u001b[0m\u001b[0;34m\u001b[0m\u001b[0m\n\u001b[0;32m---> 13\u001b[0;31m         \u001b[0mdate_created\u001b[0m \u001b[0;34m=\u001b[0m \u001b[0msoup\u001b[0m\u001b[0;34m.\u001b[0m\u001b[0mfind\u001b[0m\u001b[0;34m(\u001b[0m\u001b[0;34m\"span\"\u001b[0m\u001b[0;34m,\u001b[0m \u001b[0mitemprop\u001b[0m\u001b[0;34m=\u001b[0m\u001b[0;34m\"dateCreated\"\u001b[0m\u001b[0;34m)\u001b[0m\u001b[0;34m.\u001b[0m\u001b[0mtext\u001b[0m\u001b[0;34m\u001b[0m\u001b[0;34m\u001b[0m\u001b[0m\n\u001b[0m\u001b[1;32m     14\u001b[0m         \u001b[0;31m# Getting style and genre\u001b[0m\u001b[0;34m\u001b[0m\u001b[0;34m\u001b[0m\u001b[0;34m\u001b[0m\u001b[0m\n\u001b[1;32m     15\u001b[0m         \u001b[0minfo\u001b[0m \u001b[0;34m=\u001b[0m \u001b[0msoup\u001b[0m\u001b[0;34m.\u001b[0m\u001b[0mfind_all\u001b[0m\u001b[0;34m(\u001b[0m\u001b[0;34m'li'\u001b[0m\u001b[0;34m,\u001b[0m \u001b[0;34m{\u001b[0m\u001b[0;34m'class'\u001b[0m\u001b[0;34m:\u001b[0m \u001b[0;34m'dictionary-values'\u001b[0m\u001b[0;34m}\u001b[0m\u001b[0;34m)\u001b[0m\u001b[0;34m\u001b[0m\u001b[0;34m\u001b[0m\u001b[0m\n",
      "\u001b[0;31mAttributeError\u001b[0m: 'NoneType' object has no attribute 'text'"
     ]
    }
   ],
   "source": [
    "make_lists(path, painting_paths)"
   ]
  },
  {
   "cell_type": "code",
   "execution_count": 47,
   "metadata": {},
   "outputs": [],
   "source": [
    "image_df=pd.DataFrame({'name': image_names, 'date': image_dates, 'style': image_styles, 'genre': image_genres})\n"
   ]
  },
  {
   "cell_type": "code",
   "execution_count": 49,
   "metadata": {},
   "outputs": [],
   "source": [
    "image_df.drop_duplicates(inplace= True)"
   ]
  },
  {
   "cell_type": "code",
   "execution_count": 76,
   "metadata": {},
   "outputs": [],
   "source": [
    "#image_df.reset_index(inplace=True)\n",
    "image_df=image_df[[\"name\",\"date\",\"style\", \"genre\"]]"
   ]
  },
  {
   "cell_type": "code",
   "execution_count": 328,
   "metadata": {},
   "outputs": [],
   "source": [
    "image_df.to_csv(path_or_buf=r\"/Users/mollyrowland/Downloads/Github/dsc160-midterm-group12/data/data.csv\",index=False)"
   ]
  },
  {
   "cell_type": "code",
   "execution_count": 245,
   "metadata": {},
   "outputs": [
    {
     "data": {
      "text/html": [
       "<div>\n",
       "<style scoped>\n",
       "    .dataframe tbody tr th:only-of-type {\n",
       "        vertical-align: middle;\n",
       "    }\n",
       "\n",
       "    .dataframe tbody tr th {\n",
       "        vertical-align: top;\n",
       "    }\n",
       "\n",
       "    .dataframe thead th {\n",
       "        text-align: right;\n",
       "    }\n",
       "</style>\n",
       "<table border=\"1\" class=\"dataframe\">\n",
       "  <thead>\n",
       "    <tr style=\"text-align: right;\">\n",
       "      <th></th>\n",
       "      <th>name</th>\n",
       "      <th>date</th>\n",
       "      <th>style</th>\n",
       "      <th>genre</th>\n",
       "      <th>height</th>\n",
       "      <th>width</th>\n",
       "      <th>mean_hue</th>\n",
       "      <th>mean_saturation</th>\n",
       "      <th>mean_value</th>\n",
       "      <th>mean_energy</th>\n",
       "    </tr>\n",
       "  </thead>\n",
       "  <tbody>\n",
       "    <tr>\n",
       "      <td>0</td>\n",
       "      <td>lighthouse-at-the-hospice.jpg</td>\n",
       "      <td>1864</td>\n",
       "      <td>Impressionism</td>\n",
       "      <td>cityscape</td>\n",
       "      <td>848</td>\n",
       "      <td>1280</td>\n",
       "      <td>0.161592</td>\n",
       "      <td>0.369811</td>\n",
       "      <td>0.639680</td>\n",
       "      <td>1581.759686</td>\n",
       "    </tr>\n",
       "    <tr>\n",
       "      <td>1</td>\n",
       "      <td>view-at-rouelles-le-havre.jpg</td>\n",
       "      <td>1858</td>\n",
       "      <td>Realism</td>\n",
       "      <td>landscape</td>\n",
       "      <td>797</td>\n",
       "      <td>1280</td>\n",
       "      <td>0.418561</td>\n",
       "      <td>0.323907</td>\n",
       "      <td>0.559839</td>\n",
       "      <td>1304.028243</td>\n",
       "    </tr>\n",
       "    <tr>\n",
       "      <td>2</td>\n",
       "      <td>a-corner-of-the-studio(1).jpg</td>\n",
       "      <td>1861</td>\n",
       "      <td>Realism</td>\n",
       "      <td>self-portrait</td>\n",
       "      <td>1273</td>\n",
       "      <td>881</td>\n",
       "      <td>0.465204</td>\n",
       "      <td>0.360307</td>\n",
       "      <td>0.356693</td>\n",
       "      <td>9083.166369</td>\n",
       "    </tr>\n",
       "    <tr>\n",
       "      <td>3</td>\n",
       "      <td>trophies-of-the-hunt.jpg</td>\n",
       "      <td>1862</td>\n",
       "      <td>Realism</td>\n",
       "      <td>still life</td>\n",
       "      <td>1200</td>\n",
       "      <td>850</td>\n",
       "      <td>0.300296</td>\n",
       "      <td>0.622229</td>\n",
       "      <td>0.386603</td>\n",
       "      <td>1323.287669</td>\n",
       "    </tr>\n",
       "    <tr>\n",
       "      <td>4</td>\n",
       "      <td>a-farmyard-in-normandy(1).jpg</td>\n",
       "      <td>1863</td>\n",
       "      <td>Realism</td>\n",
       "      <td>landscape</td>\n",
       "      <td>974</td>\n",
       "      <td>1280</td>\n",
       "      <td>0.129511</td>\n",
       "      <td>0.490746</td>\n",
       "      <td>0.463133</td>\n",
       "      <td>1584.791794</td>\n",
       "    </tr>\n",
       "    <tr>\n",
       "      <td>...</td>\n",
       "      <td>...</td>\n",
       "      <td>...</td>\n",
       "      <td>...</td>\n",
       "      <td>...</td>\n",
       "      <td>...</td>\n",
       "      <td>...</td>\n",
       "      <td>...</td>\n",
       "      <td>...</td>\n",
       "      <td>...</td>\n",
       "      <td>...</td>\n",
       "    </tr>\n",
       "    <tr>\n",
       "      <td>1360</td>\n",
       "      <td>water-lilies-1926-1.jpg</td>\n",
       "      <td>1926</td>\n",
       "      <td>Impressionism</td>\n",
       "      <td>flower painting</td>\n",
       "      <td>592</td>\n",
       "      <td>1800</td>\n",
       "      <td>0.254407</td>\n",
       "      <td>0.340890</td>\n",
       "      <td>0.519975</td>\n",
       "      <td>6788.984737</td>\n",
       "    </tr>\n",
       "    <tr>\n",
       "      <td>1361</td>\n",
       "      <td>water-lilies-green-reflection-left-half-1926.jpg</td>\n",
       "      <td>1926</td>\n",
       "      <td>Impressionism</td>\n",
       "      <td>flower painting</td>\n",
       "      <td>578</td>\n",
       "      <td>1280</td>\n",
       "      <td>0.528547</td>\n",
       "      <td>0.284673</td>\n",
       "      <td>0.316626</td>\n",
       "      <td>1974.647770</td>\n",
       "    </tr>\n",
       "    <tr>\n",
       "      <td>1362</td>\n",
       "      <td>water-lilies-green-reflection-right-half-1926.jpg</td>\n",
       "      <td>1926</td>\n",
       "      <td>Impressionism</td>\n",
       "      <td>flower painting</td>\n",
       "      <td>576</td>\n",
       "      <td>1280</td>\n",
       "      <td>0.522723</td>\n",
       "      <td>0.230662</td>\n",
       "      <td>0.274685</td>\n",
       "      <td>2050.004462</td>\n",
       "    </tr>\n",
       "    <tr>\n",
       "      <td>1363</td>\n",
       "      <td>water-lily-pond-evening-left-panel-1926.jpg</td>\n",
       "      <td>1926</td>\n",
       "      <td>Impressionism</td>\n",
       "      <td>flower painting</td>\n",
       "      <td>850</td>\n",
       "      <td>1280</td>\n",
       "      <td>0.270487</td>\n",
       "      <td>0.372705</td>\n",
       "      <td>0.571244</td>\n",
       "      <td>2050.440919</td>\n",
       "    </tr>\n",
       "    <tr>\n",
       "      <td>1364</td>\n",
       "      <td>water-lily-pond-evening-right-panel-1926.jpg</td>\n",
       "      <td>1926</td>\n",
       "      <td>Impressionism</td>\n",
       "      <td>flower painting</td>\n",
       "      <td>841</td>\n",
       "      <td>1280</td>\n",
       "      <td>0.241344</td>\n",
       "      <td>0.373521</td>\n",
       "      <td>0.439361</td>\n",
       "      <td>2656.512390</td>\n",
       "    </tr>\n",
       "  </tbody>\n",
       "</table>\n",
       "<p>1364 rows × 10 columns</p>\n",
       "</div>"
      ],
      "text/plain": [
       "                                                   name  date          style  \\\n",
       "0                         lighthouse-at-the-hospice.jpg  1864  Impressionism   \n",
       "1                         view-at-rouelles-le-havre.jpg  1858        Realism   \n",
       "2                         a-corner-of-the-studio(1).jpg  1861        Realism   \n",
       "3                              trophies-of-the-hunt.jpg  1862        Realism   \n",
       "4                         a-farmyard-in-normandy(1).jpg  1863        Realism   \n",
       "...                                                 ...   ...            ...   \n",
       "1360                            water-lilies-1926-1.jpg  1926  Impressionism   \n",
       "1361   water-lilies-green-reflection-left-half-1926.jpg  1926  Impressionism   \n",
       "1362  water-lilies-green-reflection-right-half-1926.jpg  1926  Impressionism   \n",
       "1363        water-lily-pond-evening-left-panel-1926.jpg  1926  Impressionism   \n",
       "1364       water-lily-pond-evening-right-panel-1926.jpg  1926  Impressionism   \n",
       "\n",
       "                genre  height  width  mean_hue  mean_saturation  mean_value  \\\n",
       "0           cityscape     848   1280  0.161592         0.369811    0.639680   \n",
       "1           landscape     797   1280  0.418561         0.323907    0.559839   \n",
       "2       self-portrait    1273    881  0.465204         0.360307    0.356693   \n",
       "3          still life    1200    850  0.300296         0.622229    0.386603   \n",
       "4           landscape     974   1280  0.129511         0.490746    0.463133   \n",
       "...               ...     ...    ...       ...              ...         ...   \n",
       "1360  flower painting     592   1800  0.254407         0.340890    0.519975   \n",
       "1361  flower painting     578   1280  0.528547         0.284673    0.316626   \n",
       "1362  flower painting     576   1280  0.522723         0.230662    0.274685   \n",
       "1363  flower painting     850   1280  0.270487         0.372705    0.571244   \n",
       "1364  flower painting     841   1280  0.241344         0.373521    0.439361   \n",
       "\n",
       "      mean_energy  \n",
       "0     1581.759686  \n",
       "1     1304.028243  \n",
       "2     9083.166369  \n",
       "3     1323.287669  \n",
       "4     1584.791794  \n",
       "...           ...  \n",
       "1360  6788.984737  \n",
       "1361  1974.647770  \n",
       "1362  2050.004462  \n",
       "1363  2050.440919  \n",
       "1364  2656.512390  \n",
       "\n",
       "[1364 rows x 10 columns]"
      ]
     },
     "execution_count": 245,
     "metadata": {},
     "output_type": "execute_result"
    }
   ],
   "source": [
    "image_df"
   ]
  },
  {
   "cell_type": "code",
   "execution_count": 138,
   "metadata": {},
   "outputs": [],
   "source": [
    "#pd.read_csv(r\"/Users/mollyrowland/Downloads/Github/dsc160-midterm-group12/data/data.csv\")"
   ]
  },
  {
   "cell_type": "code",
   "execution_count": 208,
   "metadata": {},
   "outputs": [],
   "source": [
    "heights, widths, mean_hues, mean_saturations, mean_values, mean_energies, names=[], [],[],[],[],[],[]"
   ]
  },
  {
   "cell_type": "code",
   "execution_count": 207,
   "metadata": {},
   "outputs": [],
   "source": [
    "# Importing libraries\n",
    "from skimage import io\n",
    "from skimage.color import rgb2hsv\n",
    "import skimage\n",
    "import numpy as np\n",
    "import os\n",
    "\n",
    "\n",
    "def calc_stats(img_fp):\n",
    "    \"\"\"\n",
    "    Calculates height, width, mean hue, saturation, \n",
    "    value, and the energy of an image.\n",
    "    \n",
    "    :param img_fp: Filepath to image\n",
    "    :returns: List containing image statistics\n",
    "    \n",
    "    \"\"\"\n",
    "    if img_fp in names:\n",
    "        return\n",
    "        \n",
    "    \n",
    "    image = io.imread(img_fp)\n",
    "\n",
    "    # Getting width and height of image\n",
    "    height, width, z = image.shape\n",
    "    \n",
    "    \n",
    "    heights.append(height)\n",
    "    widths.append(width)\n",
    "    \n",
    "    \n",
    "    "
   ]
  },
  {
   "cell_type": "code",
   "execution_count": 219,
   "metadata": {},
   "outputs": [],
   "source": [
    "def features_pt2(img_fp):\n",
    "    image = io.imread(img_fp)\n",
    "    # Converting image to HSV\n",
    "    hsv_img = rgb2hsv(image)\n",
    "    \n",
    "    # Slicing out different channels\n",
    "    hue_img = hsv_img[:, :, 0]\n",
    "    saturation_img = hsv_img[:, :, 1]\n",
    "    value_img = hsv_img[:, :, 2]\n",
    "    \n",
    "    # Calculating averages\n",
    "    mean_hue = np.mean(hue_img, axis=(0,1))\n",
    "    mean_saturation = np.mean(saturation_img, axis=(0,1))\n",
    "    mean_value = np.mean(value_img, axis=(0,1))\n",
    "    \n",
    "    # Computing energy of image\n",
    "    image_arr = np.array(image, dtype=int)\n",
    "    \n",
    "    # Calculating squared differences across RGD pixels\n",
    "    deltaX = np.square(np.roll(image_arr, -1, axis=0) - \n",
    "                       np.roll(image_arr, 1, axis=0)\n",
    "                      )\n",
    "    deltaY = np.square(np.roll(image_arr, -1, axis=1) - \n",
    "                       np.roll(image_arr, 1, axis=1)\n",
    "                      )\n",
    "\n",
    "    # Adding RGB values for each pixel, then shifting\n",
    "    dualEnergy = np.sum(deltaX, axis=2)+np.sum(deltaY, axis=2)\n",
    "    \n",
    "    mean_energy = np.mean(dualEnergy)\n",
    "\n",
    "    mean_hues.append(mean_hue)\n",
    "    mean_saturations.append(mean_saturation)\n",
    "    mean_values.append(mean_value)\n",
    "    mean_energies.append(mean_energy)"
   ]
  },
  {
   "cell_type": "code",
   "execution_count": 327,
   "metadata": {},
   "outputs": [
    {
     "data": {
      "text/html": [
       "<div>\n",
       "<style scoped>\n",
       "    .dataframe tbody tr th:only-of-type {\n",
       "        vertical-align: middle;\n",
       "    }\n",
       "\n",
       "    .dataframe tbody tr th {\n",
       "        vertical-align: top;\n",
       "    }\n",
       "\n",
       "    .dataframe thead th {\n",
       "        text-align: right;\n",
       "    }\n",
       "</style>\n",
       "<table border=\"1\" class=\"dataframe\">\n",
       "  <thead>\n",
       "    <tr style=\"text-align: right;\">\n",
       "      <th></th>\n",
       "      <th>name</th>\n",
       "      <th>date</th>\n",
       "      <th>style</th>\n",
       "      <th>genre</th>\n",
       "      <th>height</th>\n",
       "      <th>width</th>\n",
       "      <th>mean_hue</th>\n",
       "      <th>mean_saturation</th>\n",
       "      <th>mean_value</th>\n",
       "      <th>mean_energy</th>\n",
       "      <th>edge_count</th>\n",
       "    </tr>\n",
       "  </thead>\n",
       "  <tbody>\n",
       "    <tr>\n",
       "      <td>0</td>\n",
       "      <td>lighthouse-at-the-hospice.jpg</td>\n",
       "      <td>1864</td>\n",
       "      <td>Impressionism</td>\n",
       "      <td>cityscape</td>\n",
       "      <td>848</td>\n",
       "      <td>1280</td>\n",
       "      <td>0.161592</td>\n",
       "      <td>0.369811</td>\n",
       "      <td>0.639680</td>\n",
       "      <td>1581.759686</td>\n",
       "      <td>848</td>\n",
       "    </tr>\n",
       "    <tr>\n",
       "      <td>1</td>\n",
       "      <td>view-at-rouelles-le-havre.jpg</td>\n",
       "      <td>1858</td>\n",
       "      <td>Realism</td>\n",
       "      <td>landscape</td>\n",
       "      <td>797</td>\n",
       "      <td>1280</td>\n",
       "      <td>0.418561</td>\n",
       "      <td>0.323907</td>\n",
       "      <td>0.559839</td>\n",
       "      <td>1304.028243</td>\n",
       "      <td>797</td>\n",
       "    </tr>\n",
       "    <tr>\n",
       "      <td>2</td>\n",
       "      <td>a-corner-of-the-studio(1).jpg</td>\n",
       "      <td>1861</td>\n",
       "      <td>Realism</td>\n",
       "      <td>self-portrait</td>\n",
       "      <td>1273</td>\n",
       "      <td>881</td>\n",
       "      <td>0.465204</td>\n",
       "      <td>0.360307</td>\n",
       "      <td>0.356693</td>\n",
       "      <td>9083.166369</td>\n",
       "      <td>1273</td>\n",
       "    </tr>\n",
       "    <tr>\n",
       "      <td>3</td>\n",
       "      <td>trophies-of-the-hunt.jpg</td>\n",
       "      <td>1862</td>\n",
       "      <td>Realism</td>\n",
       "      <td>still life</td>\n",
       "      <td>1200</td>\n",
       "      <td>850</td>\n",
       "      <td>0.300296</td>\n",
       "      <td>0.622229</td>\n",
       "      <td>0.386603</td>\n",
       "      <td>1323.287669</td>\n",
       "      <td>1200</td>\n",
       "    </tr>\n",
       "    <tr>\n",
       "      <td>4</td>\n",
       "      <td>a-farmyard-in-normandy(1).jpg</td>\n",
       "      <td>1863</td>\n",
       "      <td>Realism</td>\n",
       "      <td>landscape</td>\n",
       "      <td>974</td>\n",
       "      <td>1280</td>\n",
       "      <td>0.129511</td>\n",
       "      <td>0.490746</td>\n",
       "      <td>0.463133</td>\n",
       "      <td>1584.791794</td>\n",
       "      <td>974</td>\n",
       "    </tr>\n",
       "    <tr>\n",
       "      <td>...</td>\n",
       "      <td>...</td>\n",
       "      <td>...</td>\n",
       "      <td>...</td>\n",
       "      <td>...</td>\n",
       "      <td>...</td>\n",
       "      <td>...</td>\n",
       "      <td>...</td>\n",
       "      <td>...</td>\n",
       "      <td>...</td>\n",
       "      <td>...</td>\n",
       "      <td>...</td>\n",
       "    </tr>\n",
       "    <tr>\n",
       "      <td>1360</td>\n",
       "      <td>water-lilies-1926-1.jpg</td>\n",
       "      <td>1926</td>\n",
       "      <td>Impressionism</td>\n",
       "      <td>flower painting</td>\n",
       "      <td>592</td>\n",
       "      <td>1800</td>\n",
       "      <td>0.254407</td>\n",
       "      <td>0.340890</td>\n",
       "      <td>0.519975</td>\n",
       "      <td>6788.984737</td>\n",
       "      <td>592</td>\n",
       "    </tr>\n",
       "    <tr>\n",
       "      <td>1361</td>\n",
       "      <td>water-lilies-green-reflection-left-half-1926.jpg</td>\n",
       "      <td>1926</td>\n",
       "      <td>Impressionism</td>\n",
       "      <td>flower painting</td>\n",
       "      <td>578</td>\n",
       "      <td>1280</td>\n",
       "      <td>0.528547</td>\n",
       "      <td>0.284673</td>\n",
       "      <td>0.316626</td>\n",
       "      <td>1974.647770</td>\n",
       "      <td>578</td>\n",
       "    </tr>\n",
       "    <tr>\n",
       "      <td>1362</td>\n",
       "      <td>water-lilies-green-reflection-right-half-1926.jpg</td>\n",
       "      <td>1926</td>\n",
       "      <td>Impressionism</td>\n",
       "      <td>flower painting</td>\n",
       "      <td>576</td>\n",
       "      <td>1280</td>\n",
       "      <td>0.522723</td>\n",
       "      <td>0.230662</td>\n",
       "      <td>0.274685</td>\n",
       "      <td>2050.004462</td>\n",
       "      <td>0</td>\n",
       "    </tr>\n",
       "    <tr>\n",
       "      <td>1363</td>\n",
       "      <td>water-lily-pond-evening-left-panel-1926.jpg</td>\n",
       "      <td>1926</td>\n",
       "      <td>Impressionism</td>\n",
       "      <td>flower painting</td>\n",
       "      <td>850</td>\n",
       "      <td>1280</td>\n",
       "      <td>0.270487</td>\n",
       "      <td>0.372705</td>\n",
       "      <td>0.571244</td>\n",
       "      <td>2050.440919</td>\n",
       "      <td>850</td>\n",
       "    </tr>\n",
       "    <tr>\n",
       "      <td>1364</td>\n",
       "      <td>water-lily-pond-evening-right-panel-1926.jpg</td>\n",
       "      <td>1926</td>\n",
       "      <td>Impressionism</td>\n",
       "      <td>flower painting</td>\n",
       "      <td>841</td>\n",
       "      <td>1280</td>\n",
       "      <td>0.241344</td>\n",
       "      <td>0.373521</td>\n",
       "      <td>0.439361</td>\n",
       "      <td>2656.512390</td>\n",
       "      <td>841</td>\n",
       "    </tr>\n",
       "  </tbody>\n",
       "</table>\n",
       "<p>1364 rows × 11 columns</p>\n",
       "</div>"
      ],
      "text/plain": [
       "                                                   name  date          style  \\\n",
       "0                         lighthouse-at-the-hospice.jpg  1864  Impressionism   \n",
       "1                         view-at-rouelles-le-havre.jpg  1858        Realism   \n",
       "2                         a-corner-of-the-studio(1).jpg  1861        Realism   \n",
       "3                              trophies-of-the-hunt.jpg  1862        Realism   \n",
       "4                         a-farmyard-in-normandy(1).jpg  1863        Realism   \n",
       "...                                                 ...   ...            ...   \n",
       "1360                            water-lilies-1926-1.jpg  1926  Impressionism   \n",
       "1361   water-lilies-green-reflection-left-half-1926.jpg  1926  Impressionism   \n",
       "1362  water-lilies-green-reflection-right-half-1926.jpg  1926  Impressionism   \n",
       "1363        water-lily-pond-evening-left-panel-1926.jpg  1926  Impressionism   \n",
       "1364       water-lily-pond-evening-right-panel-1926.jpg  1926  Impressionism   \n",
       "\n",
       "                genre  height  width  mean_hue  mean_saturation  mean_value  \\\n",
       "0           cityscape     848   1280  0.161592         0.369811    0.639680   \n",
       "1           landscape     797   1280  0.418561         0.323907    0.559839   \n",
       "2       self-portrait    1273    881  0.465204         0.360307    0.356693   \n",
       "3          still life    1200    850  0.300296         0.622229    0.386603   \n",
       "4           landscape     974   1280  0.129511         0.490746    0.463133   \n",
       "...               ...     ...    ...       ...              ...         ...   \n",
       "1360  flower painting     592   1800  0.254407         0.340890    0.519975   \n",
       "1361  flower painting     578   1280  0.528547         0.284673    0.316626   \n",
       "1362  flower painting     576   1280  0.522723         0.230662    0.274685   \n",
       "1363  flower painting     850   1280  0.270487         0.372705    0.571244   \n",
       "1364  flower painting     841   1280  0.241344         0.373521    0.439361   \n",
       "\n",
       "      mean_energy  edge_count  \n",
       "0     1581.759686         848  \n",
       "1     1304.028243         797  \n",
       "2     9083.166369        1273  \n",
       "3     1323.287669        1200  \n",
       "4     1584.791794         974  \n",
       "...           ...         ...  \n",
       "1360  6788.984737         592  \n",
       "1361  1974.647770         578  \n",
       "1362  2050.004462           0  \n",
       "1363  2050.440919         850  \n",
       "1364  2656.512390         841  \n",
       "\n",
       "[1364 rows x 11 columns]"
      ]
     },
     "execution_count": 327,
     "metadata": {},
     "output_type": "execute_result"
    }
   ],
   "source": [
    "image_df"
   ]
  },
  {
   "cell_type": "code",
   "execution_count": 180,
   "metadata": {},
   "outputs": [
    {
     "data": {
      "text/plain": [
       "'lighthouse-at-the-hospice.jpg'"
      ]
     },
     "execution_count": 180,
     "metadata": {},
     "output_type": "execute_result"
    }
   ],
   "source": [
    "image_df.iloc[0][\"name\"]"
   ]
  },
  {
   "cell_type": "code",
   "execution_count": 181,
   "metadata": {},
   "outputs": [],
   "source": [
    "location=\"/Users/mollyrowland/Downloads/GitHub/dsc160-midterm-group12/data/images/\""
   ]
  },
  {
   "cell_type": "code",
   "execution_count": 226,
   "metadata": {},
   "outputs": [],
   "source": [
    "test_df=image_df.drop(895, axis=0)"
   ]
  },
  {
   "cell_type": "code",
   "execution_count": 227,
   "metadata": {},
   "outputs": [],
   "source": [
    "test(location+test_df.iloc[895][\"name\"])"
   ]
  },
  {
   "cell_type": "code",
   "execution_count": 232,
   "metadata": {},
   "outputs": [
    {
     "data": {
      "text/plain": [
       "1365"
      ]
     },
     "execution_count": 232,
     "metadata": {},
     "output_type": "execute_result"
    }
   ],
   "source": [
    "count"
   ]
  },
  {
   "cell_type": "code",
   "execution_count": 234,
   "metadata": {},
   "outputs": [
    {
     "data": {
      "text/plain": [
       "1364"
      ]
     },
     "execution_count": 234,
     "metadata": {},
     "output_type": "execute_result"
    }
   ],
   "source": [
    "len(mean_hues)"
   ]
  },
  {
   "cell_type": "code",
   "execution_count": 237,
   "metadata": {},
   "outputs": [],
   "source": [
    "image_df=test_df"
   ]
  },
  {
   "cell_type": "code",
   "execution_count": 260,
   "metadata": {},
   "outputs": [],
   "source": [
    "import scipy.misc\n",
    "from skimage import data, io\n",
    "from skimage.color import rgb2hsv\n",
    "from skimage import exposure\n",
    "import matplotlib.pyplot as plt\n",
    "import numpy as np\n",
    "from PIL import Image\n",
    "from scipy import ndimage\n",
    "import skimage\n",
    "import cv2"
   ]
  },
  {
   "cell_type": "code",
   "execution_count": 261,
   "metadata": {},
   "outputs": [
    {
     "ename": "UnboundLocalError",
     "evalue": "local variable 'eyes' referenced before assignment",
     "output_type": "error",
     "traceback": [
      "\u001b[0;31m---------------------------------------------------------------------------\u001b[0m",
      "\u001b[0;31mUnboundLocalError\u001b[0m                         Traceback (most recent call last)",
      "\u001b[0;32m<ipython-input-261-41088c36c03a>\u001b[0m in \u001b[0;36m<module>\u001b[0;34m\u001b[0m\n\u001b[1;32m      2\u001b[0m \u001b[0;32mfor\u001b[0m \u001b[0mx\u001b[0m \u001b[0;32min\u001b[0m \u001b[0mrange\u001b[0m\u001b[0;34m(\u001b[0m\u001b[0mlen\u001b[0m\u001b[0;34m(\u001b[0m\u001b[0mimage_df\u001b[0m\u001b[0;34m)\u001b[0m\u001b[0;34m)\u001b[0m\u001b[0;34m:\u001b[0m\u001b[0;34m\u001b[0m\u001b[0;34m\u001b[0m\u001b[0m\n\u001b[1;32m      3\u001b[0m     \u001b[0mcount\u001b[0m\u001b[0;34m+=\u001b[0m\u001b[0;36m1\u001b[0m\u001b[0;34m\u001b[0m\u001b[0;34m\u001b[0m\u001b[0m\n\u001b[0;32m----> 4\u001b[0;31m     \u001b[0mfacial_detection\u001b[0m\u001b[0;34m(\u001b[0m\u001b[0mlocation\u001b[0m\u001b[0;34m+\u001b[0m\u001b[0mimage_df\u001b[0m\u001b[0;34m.\u001b[0m\u001b[0miloc\u001b[0m\u001b[0;34m[\u001b[0m\u001b[0mx\u001b[0m\u001b[0;34m]\u001b[0m\u001b[0;34m[\u001b[0m\u001b[0;34m\"name\"\u001b[0m\u001b[0;34m]\u001b[0m\u001b[0;34m)\u001b[0m\u001b[0;34m\u001b[0m\u001b[0;34m\u001b[0m\u001b[0m\n\u001b[0m",
      "\u001b[0;32m<ipython-input-257-d3559daeab3a>\u001b[0m in \u001b[0;36mfacial_detection\u001b[0;34m(img_fp)\u001b[0m\n\u001b[1;32m     20\u001b[0m         \u001b[0;32mfor\u001b[0m \u001b[0;34m(\u001b[0m\u001b[0mex\u001b[0m\u001b[0;34m,\u001b[0m\u001b[0mey\u001b[0m\u001b[0;34m,\u001b[0m\u001b[0mew\u001b[0m\u001b[0;34m,\u001b[0m\u001b[0meh\u001b[0m\u001b[0;34m)\u001b[0m \u001b[0;32min\u001b[0m \u001b[0meyes\u001b[0m\u001b[0;34m:\u001b[0m\u001b[0;34m\u001b[0m\u001b[0;34m\u001b[0m\u001b[0m\n\u001b[1;32m     21\u001b[0m             \u001b[0mcv2\u001b[0m\u001b[0;34m.\u001b[0m\u001b[0mrectangle\u001b[0m\u001b[0;34m(\u001b[0m\u001b[0mroi_color\u001b[0m\u001b[0;34m,\u001b[0m\u001b[0;34m(\u001b[0m\u001b[0mex\u001b[0m\u001b[0;34m,\u001b[0m\u001b[0mey\u001b[0m\u001b[0;34m)\u001b[0m\u001b[0;34m,\u001b[0m\u001b[0;34m(\u001b[0m\u001b[0mex\u001b[0m\u001b[0;34m+\u001b[0m\u001b[0mew\u001b[0m\u001b[0;34m,\u001b[0m\u001b[0mey\u001b[0m\u001b[0;34m+\u001b[0m\u001b[0meh\u001b[0m\u001b[0;34m)\u001b[0m\u001b[0;34m,\u001b[0m\u001b[0;34m(\u001b[0m\u001b[0;36m0\u001b[0m\u001b[0;34m,\u001b[0m\u001b[0;36m255\u001b[0m\u001b[0;34m,\u001b[0m\u001b[0;36m0\u001b[0m\u001b[0;34m)\u001b[0m\u001b[0;34m,\u001b[0m\u001b[0;36m2\u001b[0m\u001b[0;34m)\u001b[0m\u001b[0;34m\u001b[0m\u001b[0;34m\u001b[0m\u001b[0m\n\u001b[0;32m---> 22\u001b[0;31m     \u001b[0meyes_\u001b[0m\u001b[0;34m.\u001b[0m\u001b[0mappend\u001b[0m\u001b[0;34m(\u001b[0m\u001b[0meyes\u001b[0m\u001b[0;34m)\u001b[0m\u001b[0;34m\u001b[0m\u001b[0;34m\u001b[0m\u001b[0m\n\u001b[0m\u001b[1;32m     23\u001b[0m     \u001b[0msmile_cascade\u001b[0m \u001b[0;34m=\u001b[0m \u001b[0mcv2\u001b[0m\u001b[0;34m.\u001b[0m\u001b[0mCascadeClassifier\u001b[0m\u001b[0;34m(\u001b[0m\u001b[0mcv2\u001b[0m\u001b[0;34m.\u001b[0m\u001b[0mdata\u001b[0m\u001b[0;34m.\u001b[0m\u001b[0mhaarcascades\u001b[0m \u001b[0;34m+\u001b[0m \u001b[0;34m'haarcascade_smile.xml'\u001b[0m\u001b[0;34m)\u001b[0m\u001b[0;34m\u001b[0m\u001b[0;34m\u001b[0m\u001b[0m\n\u001b[1;32m     24\u001b[0m \u001b[0;34m\u001b[0m\u001b[0m\n",
      "\u001b[0;31mUnboundLocalError\u001b[0m: local variable 'eyes' referenced before assignment"
     ]
    }
   ],
   "source": [
    "count=0\n",
    "for x in range(len(image_df)):\n",
    "    count+=1\n",
    "    ***(location+image_df.iloc[x][\"name\"])"
   ]
  },
  {
   "cell_type": "code",
   "execution_count": 320,
   "metadata": {},
   "outputs": [],
   "source": [
    "def calc_edges(img_fp):\n",
    "    \"\"\"\n",
    "    Calculating Probablistic Hough Lines \n",
    "    \n",
    "    return nested array of line patterns\n",
    "    \"\"\"\n",
    "    image = io.imread(img_fp)\n",
    "\n",
    "    # Getting width and height of image\n",
    "    height, width, _ = image.shape\n",
    "    \n",
    "    # Converting image to HSV\n",
    "    hsv_img = rgb2hsv(image)\n",
    "    \n",
    "    # Slicing out different channels\n",
    "    hue_img = hsv_img[:, :, 0]\n",
    "    saturation_img = hsv_img[:, :, 1]\n",
    "    value_img = hsv_img[:, :, 2]\n",
    "    \n",
    "    #calculate edges\n",
    "    sobel_x = ndimage.sobel(value_img, axis=0, mode='constant')\n",
    "    sobel_y = ndimage.sobel(value_img, axis=1, mode='constant')\n",
    "    edge_image = np.hypot(sobel_x, sobel_y)\n",
    "    \n",
    "    #hough lines\n",
    "    temp = exposure.rescale_intensity(edge_image,out_range=(-1.0, 1.0))\n",
    "    edges = skimage.img_as_ubyte(np.clip(temp, -1, 1))\n",
    "    \n",
    "    #probablistic Hough Transformation\n",
    "    #could change if needed need to ask how to choose\n",
    "    minLineLength = 400\n",
    "    maxLineGap = 10\n",
    "    \n",
    "    lines = cv2.HoughLinesP(edges,1,np.pi/180,100,minLineLength,maxLineGap)\n",
    "    result = image.copy()\n",
    "    if lines is None:\n",
    "        num_edge=0\n",
    "    else:   \n",
    "        for x in range(0, len(lines)):    \n",
    "            for x1,y1,x2,y2 in lines[x]:\n",
    "                cv2.line(result,(x1,y1),(x2,y2),(0,255,255),5)\n",
    "                num_edge=len(result[:,:,::])\n",
    "        \n",
    "    edges_.append(num_edge) \n",
    "    \n"
   ]
  },
  {
   "cell_type": "code",
   "execution_count": 321,
   "metadata": {},
   "outputs": [],
   "source": [
    "edges_=[]\n"
   ]
  },
  {
   "cell_type": "code",
   "execution_count": 322,
   "metadata": {},
   "outputs": [],
   "source": [
    "count=0\n",
    "for x in range(len(image_df)):\n",
    "    count+=1\n",
    "    calc_edges(location+image_df.iloc[x][\"name\"])\n",
    "    "
   ]
  },
  {
   "cell_type": "code",
   "execution_count": 326,
   "metadata": {},
   "outputs": [],
   "source": [
    "image_df[\"edge_count\"]=edges_"
   ]
  },
  {
   "cell_type": "code",
   "execution_count": 318,
   "metadata": {},
   "outputs": [
    {
     "ename": "TypeError",
     "evalue": "object of type 'NoneType' has no len()",
     "output_type": "error",
     "traceback": [
      "\u001b[0;31m---------------------------------------------------------------------------\u001b[0m",
      "\u001b[0;31mTypeError\u001b[0m                                 Traceback (most recent call last)",
      "\u001b[0;32m<ipython-input-318-b851b2ffddd2>\u001b[0m in \u001b[0;36m<module>\u001b[0;34m\u001b[0m\n\u001b[0;32m----> 1\u001b[0;31m \u001b[0mcalc_edges\u001b[0m\u001b[0;34m(\u001b[0m\u001b[0mlocation\u001b[0m\u001b[0;34m+\u001b[0m\u001b[0mimage_df\u001b[0m\u001b[0;34m.\u001b[0m\u001b[0miloc\u001b[0m\u001b[0;34m[\u001b[0m\u001b[0;36m47\u001b[0m\u001b[0;34m]\u001b[0m\u001b[0;34m[\u001b[0m\u001b[0;34m\"name\"\u001b[0m\u001b[0;34m]\u001b[0m\u001b[0;34m)\u001b[0m\u001b[0;34m\u001b[0m\u001b[0;34m\u001b[0m\u001b[0m\n\u001b[0m",
      "\u001b[0;32m<ipython-input-314-8bd68059af69>\u001b[0m in \u001b[0;36mcalc_edges\u001b[0;34m(img_fp)\u001b[0m\n\u001b[1;32m     34\u001b[0m     \u001b[0mlines\u001b[0m \u001b[0;34m=\u001b[0m \u001b[0mcv2\u001b[0m\u001b[0;34m.\u001b[0m\u001b[0mHoughLinesP\u001b[0m\u001b[0;34m(\u001b[0m\u001b[0medges\u001b[0m\u001b[0;34m,\u001b[0m\u001b[0;36m1\u001b[0m\u001b[0;34m,\u001b[0m\u001b[0mnp\u001b[0m\u001b[0;34m.\u001b[0m\u001b[0mpi\u001b[0m\u001b[0;34m/\u001b[0m\u001b[0;36m180\u001b[0m\u001b[0;34m,\u001b[0m\u001b[0;36m100\u001b[0m\u001b[0;34m,\u001b[0m\u001b[0mminLineLength\u001b[0m\u001b[0;34m,\u001b[0m\u001b[0mmaxLineGap\u001b[0m\u001b[0;34m)\u001b[0m\u001b[0;34m\u001b[0m\u001b[0;34m\u001b[0m\u001b[0m\n\u001b[1;32m     35\u001b[0m     \u001b[0mresult\u001b[0m \u001b[0;34m=\u001b[0m \u001b[0mimage\u001b[0m\u001b[0;34m.\u001b[0m\u001b[0mcopy\u001b[0m\u001b[0;34m(\u001b[0m\u001b[0;34m)\u001b[0m\u001b[0;34m\u001b[0m\u001b[0;34m\u001b[0m\u001b[0m\n\u001b[0;32m---> 36\u001b[0;31m     \u001b[0;32mfor\u001b[0m \u001b[0mx\u001b[0m \u001b[0;32min\u001b[0m \u001b[0mrange\u001b[0m\u001b[0;34m(\u001b[0m\u001b[0;36m0\u001b[0m\u001b[0;34m,\u001b[0m \u001b[0mlen\u001b[0m\u001b[0;34m(\u001b[0m\u001b[0mlines\u001b[0m\u001b[0;34m)\u001b[0m\u001b[0;34m)\u001b[0m\u001b[0;34m:\u001b[0m\u001b[0;34m\u001b[0m\u001b[0;34m\u001b[0m\u001b[0m\n\u001b[0m\u001b[1;32m     37\u001b[0m         \u001b[0;32mfor\u001b[0m \u001b[0mx1\u001b[0m\u001b[0;34m,\u001b[0m\u001b[0my1\u001b[0m\u001b[0;34m,\u001b[0m\u001b[0mx2\u001b[0m\u001b[0;34m,\u001b[0m\u001b[0my2\u001b[0m \u001b[0;32min\u001b[0m \u001b[0mlines\u001b[0m\u001b[0;34m[\u001b[0m\u001b[0mx\u001b[0m\u001b[0;34m]\u001b[0m\u001b[0;34m:\u001b[0m\u001b[0;34m\u001b[0m\u001b[0;34m\u001b[0m\u001b[0m\n\u001b[1;32m     38\u001b[0m             \u001b[0mcv2\u001b[0m\u001b[0;34m.\u001b[0m\u001b[0mline\u001b[0m\u001b[0;34m(\u001b[0m\u001b[0mresult\u001b[0m\u001b[0;34m,\u001b[0m\u001b[0;34m(\u001b[0m\u001b[0mx1\u001b[0m\u001b[0;34m,\u001b[0m\u001b[0my1\u001b[0m\u001b[0;34m)\u001b[0m\u001b[0;34m,\u001b[0m\u001b[0;34m(\u001b[0m\u001b[0mx2\u001b[0m\u001b[0;34m,\u001b[0m\u001b[0my2\u001b[0m\u001b[0;34m)\u001b[0m\u001b[0;34m,\u001b[0m\u001b[0;34m(\u001b[0m\u001b[0;36m0\u001b[0m\u001b[0;34m,\u001b[0m\u001b[0;36m255\u001b[0m\u001b[0;34m,\u001b[0m\u001b[0;36m255\u001b[0m\u001b[0;34m)\u001b[0m\u001b[0;34m,\u001b[0m\u001b[0;36m5\u001b[0m\u001b[0;34m)\u001b[0m\u001b[0;34m\u001b[0m\u001b[0;34m\u001b[0m\u001b[0m\n",
      "\u001b[0;31mTypeError\u001b[0m: object of type 'NoneType' has no len()"
     ]
    }
   ],
   "source": [
    "calc_edges(location+image_df.iloc[47][\"name\"])\n"
   ]
  },
  {
   "cell_type": "code",
   "execution_count": null,
   "metadata": {},
   "outputs": [],
   "source": []
  }
 ],
 "metadata": {
  "kernelspec": {
   "display_name": "Python 3",
   "language": "python",
   "name": "python3"
  },
  "language_info": {
   "codemirror_mode": {
    "name": "ipython",
    "version": 3
   },
   "file_extension": ".py",
   "mimetype": "text/x-python",
   "name": "python",
   "nbconvert_exporter": "python",
   "pygments_lexer": "ipython3",
   "version": "3.7.4"
  }
 },
 "nbformat": 4,
 "nbformat_minor": 2
}
