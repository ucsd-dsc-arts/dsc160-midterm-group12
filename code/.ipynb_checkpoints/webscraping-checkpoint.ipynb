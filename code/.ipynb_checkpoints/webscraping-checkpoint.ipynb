{
 "cells": [
  {
   "cell_type": "markdown",
   "metadata": {},
   "source": [
    "## Webscraping Code\n",
    "All of the images are scraped from https://www.wikiart.org/en/claude-monet/all-works/text-list and saved in the data folder."
   ]
  },
  {
   "cell_type": "code",
   "execution_count": 1,
   "metadata": {},
   "outputs": [],
   "source": [
    "from bs4 import BeautifulSoup\n",
    "import os\n",
    "import requests\n",
    "import pandas as pd"
   ]
  },
  {
   "cell_type": "code",
   "execution_count": 2,
   "metadata": {},
   "outputs": [],
   "source": [
    "DATA_DIR = \"../data/\"\n",
    "ARTIST_URL = \"https://www.wikiart.org/en/claude-monet/all-works/text-list\"\n",
    "PAINTING_URL = 'https://www.wikiart.org{painting_path}'"
   ]
  },
  {
   "cell_type": "code",
   "execution_count": 3,
   "metadata": {},
   "outputs": [],
   "source": [
    "artist_page = requests.get(ARTIST_URL)"
   ]
  },
  {
   "cell_type": "code",
   "execution_count": 4,
   "metadata": {},
   "outputs": [],
   "source": [
    "soup = BeautifulSoup(artist_page.text, 'lxml')"
   ]
  },
  {
   "cell_type": "code",
   "execution_count": 5,
   "metadata": {},
   "outputs": [],
   "source": [
    "painting_paths = []\n",
    "\n",
    "# retreive all rows in painting-list\n",
    "for li in soup.find_all('li', {'class': 'painting-list-text-row'}):\n",
    "\n",
    "    # retrieve all links in the current row\n",
    "    for link in li.find_all('a'):\n",
    "        href = link.get('href')\n",
    "        # store in dictionary\n",
    "        painting_paths.append(href)"
   ]
  },
  {
   "cell_type": "code",
   "execution_count": 17,
   "metadata": {},
   "outputs": [],
   "source": [
    "def download_and_save(painting_url):\n",
    "    r_painting_page = requests.get(painting_url)\n",
    "    soup = BeautifulSoup(r_painting_page.text, 'lxml')\n",
    "    # Initializing list to store image information\n",
    "    \n",
    "\n",
    "    for img in soup.find_all('img', {'class': 'ms-zoom-cursor'}):\n",
    "        img_url = img['src']\n",
    "        img_url = img_url.split('!')[0]\n",
    "        #name\n",
    "        filename = img_url.split('/')[-1]\n",
    "        #date\n",
    "        date_created = soup.find(\"span\", itemprop=\"dateCreated\").text\n",
    "        # Getting style and genre\n",
    "        info = soup.find_all('li', {'class': 'dictionary-values'})\n",
    "        style = info[0].find('a').text\n",
    "        genre = info[1].find('a').text\n",
    "        \n",
    "        # Storing info\n",
    "        image_names.append(filename)\n",
    "        image_dates.append(date_created)\n",
    "        image_styles.append(style)\n",
    "        image_genres.append(genre)\n",
    "    \n",
    "        \n",
    "        \n",
    "        outfile = os.path.join(DATA_DIR, filename)                       \n",
    "        if not os.path.exists(outfile):                        \n",
    "            #print(\"downloading {}: {}\".format(filename, img_url))\n",
    "            r = requests.get(img_url, outfile)\n",
    "            with open(outfile, 'wb') as f:\n",
    "                f.write(r.content)\n",
    "        else:\n",
    "            #print(\"skipping {}\".format(filename))\n",
    "            pass\n",
    "   "
   ]
  },
  {
   "cell_type": "code",
   "execution_count": 18,
   "metadata": {},
   "outputs": [],
   "source": [
    "for path in painting_paths[:10]:\n",
    "    painting_path = PAINTING_URL.format(painting_path=path)\n",
    "    image_names, image_dates, image_styles, image_genres = [], [], [], []\n",
    "    download_and_save(painting_path)"
   ]
  },
  {
   "cell_type": "code",
   "execution_count": 19,
   "metadata": {},
   "outputs": [],
   "source": [
    "images_df = pd.DataFrame({'name': image_names, \n",
    "                      'date': image_dates, \n",
    "                      'style': image_styles, \n",
    "                      'genre': image_genres}\n",
    "                    )"
   ]
  },
  {
   "cell_type": "code",
   "execution_count": 42,
   "metadata": {},
   "outputs": [],
   "source": [
    "def make_lists(path, painting_paths):\n",
    "    image_names, image_dates, image_styles, image_genres = [], [], [], []\n",
    "\n",
    "    for path in painting_paths:\n",
    "        painting_path = PAINTING_URL.format(painting_path=path)\n",
    "        download_and_save(painting_path)"
   ]
  },
  {
   "cell_type": "code",
   "execution_count": 46,
   "metadata": {},
   "outputs": [
    {
     "ename": "AttributeError",
     "evalue": "'NoneType' object has no attribute 'text'",
     "output_type": "error",
     "traceback": [
      "\u001b[0;31m---------------------------------------------------------------------------\u001b[0m",
      "\u001b[0;31mAttributeError\u001b[0m                            Traceback (most recent call last)",
      "\u001b[0;32m<ipython-input-46-354167ecd3b2>\u001b[0m in \u001b[0;36m<module>\u001b[0;34m\u001b[0m\n\u001b[0;32m----> 1\u001b[0;31m \u001b[0mmake_lists\u001b[0m\u001b[0;34m(\u001b[0m\u001b[0mpath\u001b[0m\u001b[0;34m,\u001b[0m \u001b[0mpainting_paths\u001b[0m\u001b[0;34m)\u001b[0m\u001b[0;34m\u001b[0m\u001b[0;34m\u001b[0m\u001b[0m\n\u001b[0m",
      "\u001b[0;32m<ipython-input-42-af66607aaca6>\u001b[0m in \u001b[0;36mmake_lists\u001b[0;34m(path, painting_paths)\u001b[0m\n\u001b[1;32m      4\u001b[0m     \u001b[0;32mfor\u001b[0m \u001b[0mpath\u001b[0m \u001b[0;32min\u001b[0m \u001b[0mpainting_paths\u001b[0m\u001b[0;34m:\u001b[0m\u001b[0;34m\u001b[0m\u001b[0;34m\u001b[0m\u001b[0m\n\u001b[1;32m      5\u001b[0m         \u001b[0mpainting_path\u001b[0m \u001b[0;34m=\u001b[0m \u001b[0mPAINTING_URL\u001b[0m\u001b[0;34m.\u001b[0m\u001b[0mformat\u001b[0m\u001b[0;34m(\u001b[0m\u001b[0mpainting_path\u001b[0m\u001b[0;34m=\u001b[0m\u001b[0mpath\u001b[0m\u001b[0;34m)\u001b[0m\u001b[0;34m\u001b[0m\u001b[0;34m\u001b[0m\u001b[0m\n\u001b[0;32m----> 6\u001b[0;31m         \u001b[0mdownload_and_save\u001b[0m\u001b[0;34m(\u001b[0m\u001b[0mpainting_path\u001b[0m\u001b[0;34m)\u001b[0m\u001b[0;34m\u001b[0m\u001b[0;34m\u001b[0m\u001b[0m\n\u001b[0m",
      "\u001b[0;32m<ipython-input-17-0e369cd9e910>\u001b[0m in \u001b[0;36mdownload_and_save\u001b[0;34m(painting_url)\u001b[0m\n\u001b[1;32m     11\u001b[0m         \u001b[0mfilename\u001b[0m \u001b[0;34m=\u001b[0m \u001b[0mimg_url\u001b[0m\u001b[0;34m.\u001b[0m\u001b[0msplit\u001b[0m\u001b[0;34m(\u001b[0m\u001b[0;34m'/'\u001b[0m\u001b[0;34m)\u001b[0m\u001b[0;34m[\u001b[0m\u001b[0;34m-\u001b[0m\u001b[0;36m1\u001b[0m\u001b[0;34m]\u001b[0m\u001b[0;34m\u001b[0m\u001b[0;34m\u001b[0m\u001b[0m\n\u001b[1;32m     12\u001b[0m         \u001b[0;31m#date\u001b[0m\u001b[0;34m\u001b[0m\u001b[0;34m\u001b[0m\u001b[0;34m\u001b[0m\u001b[0m\n\u001b[0;32m---> 13\u001b[0;31m         \u001b[0mdate_created\u001b[0m \u001b[0;34m=\u001b[0m \u001b[0msoup\u001b[0m\u001b[0;34m.\u001b[0m\u001b[0mfind\u001b[0m\u001b[0;34m(\u001b[0m\u001b[0;34m\"span\"\u001b[0m\u001b[0;34m,\u001b[0m \u001b[0mitemprop\u001b[0m\u001b[0;34m=\u001b[0m\u001b[0;34m\"dateCreated\"\u001b[0m\u001b[0;34m)\u001b[0m\u001b[0;34m.\u001b[0m\u001b[0mtext\u001b[0m\u001b[0;34m\u001b[0m\u001b[0;34m\u001b[0m\u001b[0m\n\u001b[0m\u001b[1;32m     14\u001b[0m         \u001b[0;31m# Getting style and genre\u001b[0m\u001b[0;34m\u001b[0m\u001b[0;34m\u001b[0m\u001b[0;34m\u001b[0m\u001b[0m\n\u001b[1;32m     15\u001b[0m         \u001b[0minfo\u001b[0m \u001b[0;34m=\u001b[0m \u001b[0msoup\u001b[0m\u001b[0;34m.\u001b[0m\u001b[0mfind_all\u001b[0m\u001b[0;34m(\u001b[0m\u001b[0;34m'li'\u001b[0m\u001b[0;34m,\u001b[0m \u001b[0;34m{\u001b[0m\u001b[0;34m'class'\u001b[0m\u001b[0;34m:\u001b[0m \u001b[0;34m'dictionary-values'\u001b[0m\u001b[0;34m}\u001b[0m\u001b[0;34m)\u001b[0m\u001b[0;34m\u001b[0m\u001b[0;34m\u001b[0m\u001b[0m\n",
      "\u001b[0;31mAttributeError\u001b[0m: 'NoneType' object has no attribute 'text'"
     ]
    }
   ],
   "source": [
    "make_lists(path, painting_paths)"
   ]
  },
  {
   "cell_type": "code",
   "execution_count": 47,
   "metadata": {},
   "outputs": [],
   "source": [
    "image_df=pd.DataFrame({'name': image_names, 'date': image_dates, 'style': image_styles, 'genre': image_genres})\n"
   ]
  },
  {
   "cell_type": "code",
   "execution_count": 49,
   "metadata": {},
   "outputs": [],
   "source": [
    "image_df.drop_duplicates(inplace= True)"
   ]
  },
  {
   "cell_type": "code",
   "execution_count": 76,
   "metadata": {},
   "outputs": [],
   "source": [
    "#image_df.reset_index(inplace=True)\n",
    "image_df=image_df[[\"name\",\"date\",\"style\", \"genre\"]]"
   ]
  },
  {
   "cell_type": "code",
   "execution_count": 244,
   "metadata": {},
   "outputs": [],
   "source": [
    "image_df.to_csv(path_or_buf=r\"/Users/mollyrowland/Downloads/Github/dsc160-midterm-group12/data/data.csv\",index=False)"
   ]
  },
  {
   "cell_type": "code",
   "execution_count": 245,
   "metadata": {},
   "outputs": [
    {
     "data": {
      "text/html": [
       "<div>\n",
       "<style scoped>\n",
       "    .dataframe tbody tr th:only-of-type {\n",
       "        vertical-align: middle;\n",
       "    }\n",
       "\n",
       "    .dataframe tbody tr th {\n",
       "        vertical-align: top;\n",
       "    }\n",
       "\n",
       "    .dataframe thead th {\n",
       "        text-align: right;\n",
       "    }\n",
       "</style>\n",
       "<table border=\"1\" class=\"dataframe\">\n",
       "  <thead>\n",
       "    <tr style=\"text-align: right;\">\n",
       "      <th></th>\n",
       "      <th>name</th>\n",
       "      <th>date</th>\n",
       "      <th>style</th>\n",
       "      <th>genre</th>\n",
       "      <th>height</th>\n",
       "      <th>width</th>\n",
       "      <th>mean_hue</th>\n",
       "      <th>mean_saturation</th>\n",
       "      <th>mean_value</th>\n",
       "      <th>mean_energy</th>\n",
       "    </tr>\n",
       "  </thead>\n",
       "  <tbody>\n",
       "    <tr>\n",
       "      <td>0</td>\n",
       "      <td>lighthouse-at-the-hospice.jpg</td>\n",
       "      <td>1864</td>\n",
       "      <td>Impressionism</td>\n",
       "      <td>cityscape</td>\n",
       "      <td>848</td>\n",
       "      <td>1280</td>\n",
       "      <td>0.161592</td>\n",
       "      <td>0.369811</td>\n",
       "      <td>0.639680</td>\n",
       "      <td>1581.759686</td>\n",
       "    </tr>\n",
       "    <tr>\n",
       "      <td>1</td>\n",
       "      <td>view-at-rouelles-le-havre.jpg</td>\n",
       "      <td>1858</td>\n",
       "      <td>Realism</td>\n",
       "      <td>landscape</td>\n",
       "      <td>797</td>\n",
       "      <td>1280</td>\n",
       "      <td>0.418561</td>\n",
       "      <td>0.323907</td>\n",
       "      <td>0.559839</td>\n",
       "      <td>1304.028243</td>\n",
       "    </tr>\n",
       "    <tr>\n",
       "      <td>2</td>\n",
       "      <td>a-corner-of-the-studio(1).jpg</td>\n",
       "      <td>1861</td>\n",
       "      <td>Realism</td>\n",
       "      <td>self-portrait</td>\n",
       "      <td>1273</td>\n",
       "      <td>881</td>\n",
       "      <td>0.465204</td>\n",
       "      <td>0.360307</td>\n",
       "      <td>0.356693</td>\n",
       "      <td>9083.166369</td>\n",
       "    </tr>\n",
       "    <tr>\n",
       "      <td>3</td>\n",
       "      <td>trophies-of-the-hunt.jpg</td>\n",
       "      <td>1862</td>\n",
       "      <td>Realism</td>\n",
       "      <td>still life</td>\n",
       "      <td>1200</td>\n",
       "      <td>850</td>\n",
       "      <td>0.300296</td>\n",
       "      <td>0.622229</td>\n",
       "      <td>0.386603</td>\n",
       "      <td>1323.287669</td>\n",
       "    </tr>\n",
       "    <tr>\n",
       "      <td>4</td>\n",
       "      <td>a-farmyard-in-normandy(1).jpg</td>\n",
       "      <td>1863</td>\n",
       "      <td>Realism</td>\n",
       "      <td>landscape</td>\n",
       "      <td>974</td>\n",
       "      <td>1280</td>\n",
       "      <td>0.129511</td>\n",
       "      <td>0.490746</td>\n",
       "      <td>0.463133</td>\n",
       "      <td>1584.791794</td>\n",
       "    </tr>\n",
       "    <tr>\n",
       "      <td>...</td>\n",
       "      <td>...</td>\n",
       "      <td>...</td>\n",
       "      <td>...</td>\n",
       "      <td>...</td>\n",
       "      <td>...</td>\n",
       "      <td>...</td>\n",
       "      <td>...</td>\n",
       "      <td>...</td>\n",
       "      <td>...</td>\n",
       "      <td>...</td>\n",
       "    </tr>\n",
       "    <tr>\n",
       "      <td>1360</td>\n",
       "      <td>water-lilies-1926-1.jpg</td>\n",
       "      <td>1926</td>\n",
       "      <td>Impressionism</td>\n",
       "      <td>flower painting</td>\n",
       "      <td>592</td>\n",
       "      <td>1800</td>\n",
       "      <td>0.254407</td>\n",
       "      <td>0.340890</td>\n",
       "      <td>0.519975</td>\n",
       "      <td>6788.984737</td>\n",
       "    </tr>\n",
       "    <tr>\n",
       "      <td>1361</td>\n",
       "      <td>water-lilies-green-reflection-left-half-1926.jpg</td>\n",
       "      <td>1926</td>\n",
       "      <td>Impressionism</td>\n",
       "      <td>flower painting</td>\n",
       "      <td>578</td>\n",
       "      <td>1280</td>\n",
       "      <td>0.528547</td>\n",
       "      <td>0.284673</td>\n",
       "      <td>0.316626</td>\n",
       "      <td>1974.647770</td>\n",
       "    </tr>\n",
       "    <tr>\n",
       "      <td>1362</td>\n",
       "      <td>water-lilies-green-reflection-right-half-1926.jpg</td>\n",
       "      <td>1926</td>\n",
       "      <td>Impressionism</td>\n",
       "      <td>flower painting</td>\n",
       "      <td>576</td>\n",
       "      <td>1280</td>\n",
       "      <td>0.522723</td>\n",
       "      <td>0.230662</td>\n",
       "      <td>0.274685</td>\n",
       "      <td>2050.004462</td>\n",
       "    </tr>\n",
       "    <tr>\n",
       "      <td>1363</td>\n",
       "      <td>water-lily-pond-evening-left-panel-1926.jpg</td>\n",
       "      <td>1926</td>\n",
       "      <td>Impressionism</td>\n",
       "      <td>flower painting</td>\n",
       "      <td>850</td>\n",
       "      <td>1280</td>\n",
       "      <td>0.270487</td>\n",
       "      <td>0.372705</td>\n",
       "      <td>0.571244</td>\n",
       "      <td>2050.440919</td>\n",
       "    </tr>\n",
       "    <tr>\n",
       "      <td>1364</td>\n",
       "      <td>water-lily-pond-evening-right-panel-1926.jpg</td>\n",
       "      <td>1926</td>\n",
       "      <td>Impressionism</td>\n",
       "      <td>flower painting</td>\n",
       "      <td>841</td>\n",
       "      <td>1280</td>\n",
       "      <td>0.241344</td>\n",
       "      <td>0.373521</td>\n",
       "      <td>0.439361</td>\n",
       "      <td>2656.512390</td>\n",
       "    </tr>\n",
       "  </tbody>\n",
       "</table>\n",
       "<p>1364 rows × 10 columns</p>\n",
       "</div>"
      ],
      "text/plain": [
       "                                                   name  date          style  \\\n",
       "0                         lighthouse-at-the-hospice.jpg  1864  Impressionism   \n",
       "1                         view-at-rouelles-le-havre.jpg  1858        Realism   \n",
       "2                         a-corner-of-the-studio(1).jpg  1861        Realism   \n",
       "3                              trophies-of-the-hunt.jpg  1862        Realism   \n",
       "4                         a-farmyard-in-normandy(1).jpg  1863        Realism   \n",
       "...                                                 ...   ...            ...   \n",
       "1360                            water-lilies-1926-1.jpg  1926  Impressionism   \n",
       "1361   water-lilies-green-reflection-left-half-1926.jpg  1926  Impressionism   \n",
       "1362  water-lilies-green-reflection-right-half-1926.jpg  1926  Impressionism   \n",
       "1363        water-lily-pond-evening-left-panel-1926.jpg  1926  Impressionism   \n",
       "1364       water-lily-pond-evening-right-panel-1926.jpg  1926  Impressionism   \n",
       "\n",
       "                genre  height  width  mean_hue  mean_saturation  mean_value  \\\n",
       "0           cityscape     848   1280  0.161592         0.369811    0.639680   \n",
       "1           landscape     797   1280  0.418561         0.323907    0.559839   \n",
       "2       self-portrait    1273    881  0.465204         0.360307    0.356693   \n",
       "3          still life    1200    850  0.300296         0.622229    0.386603   \n",
       "4           landscape     974   1280  0.129511         0.490746    0.463133   \n",
       "...               ...     ...    ...       ...              ...         ...   \n",
       "1360  flower painting     592   1800  0.254407         0.340890    0.519975   \n",
       "1361  flower painting     578   1280  0.528547         0.284673    0.316626   \n",
       "1362  flower painting     576   1280  0.522723         0.230662    0.274685   \n",
       "1363  flower painting     850   1280  0.270487         0.372705    0.571244   \n",
       "1364  flower painting     841   1280  0.241344         0.373521    0.439361   \n",
       "\n",
       "      mean_energy  \n",
       "0     1581.759686  \n",
       "1     1304.028243  \n",
       "2     9083.166369  \n",
       "3     1323.287669  \n",
       "4     1584.791794  \n",
       "...           ...  \n",
       "1360  6788.984737  \n",
       "1361  1974.647770  \n",
       "1362  2050.004462  \n",
       "1363  2050.440919  \n",
       "1364  2656.512390  \n",
       "\n",
       "[1364 rows x 10 columns]"
      ]
     },
     "execution_count": 245,
     "metadata": {},
     "output_type": "execute_result"
    }
   ],
   "source": [
    "image_df"
   ]
  },
  {
   "cell_type": "code",
   "execution_count": 138,
   "metadata": {},
   "outputs": [],
   "source": [
    "#pd.read_csv(r\"/Users/mollyrowland/Downloads/Github/dsc160-midterm-group12/data/data.csv\")"
   ]
  },
  {
   "cell_type": "code",
   "execution_count": 208,
   "metadata": {},
   "outputs": [],
   "source": [
    "heights, widths, mean_hues, mean_saturations, mean_values, mean_energies, names=[], [],[],[],[],[],[]"
   ]
  },
  {
   "cell_type": "code",
   "execution_count": 207,
   "metadata": {},
   "outputs": [],
   "source": [
    "# Importing libraries\n",
    "from skimage import io\n",
    "from skimage.color import rgb2hsv\n",
    "import skimage\n",
    "import numpy as np\n",
    "import os\n",
    "\n",
    "\n",
    "def calc_stats(img_fp):\n",
    "    \"\"\"\n",
    "    Calculates height, width, mean hue, saturation, \n",
    "    value, and the energy of an image.\n",
    "    \n",
    "    :param img_fp: Filepath to image\n",
    "    :returns: List containing image statistics\n",
    "    \n",
    "    \"\"\"\n",
    "    if img_fp in names:\n",
    "        return\n",
    "        \n",
    "    \n",
    "    image = io.imread(img_fp)\n",
    "\n",
    "    # Getting width and height of image\n",
    "    height, width, z = image.shape\n",
    "    \n",
    "    \n",
    "    heights.append(height)\n",
    "    widths.append(width)\n",
    "    \n",
    "    \n",
    "    "
   ]
  },
  {
   "cell_type": "code",
   "execution_count": 219,
   "metadata": {},
   "outputs": [],
   "source": [
    "def test(img_fp):\n",
    "    image = io.imread(img_fp)\n",
    "    # Converting image to HSV\n",
    "    hsv_img = rgb2hsv(image)\n",
    "    \n",
    "    # Slicing out different channels\n",
    "    hue_img = hsv_img[:, :, 0]\n",
    "    saturation_img = hsv_img[:, :, 1]\n",
    "    value_img = hsv_img[:, :, 2]\n",
    "    \n",
    "    # Calculating averages\n",
    "    mean_hue = np.mean(hue_img, axis=(0,1))\n",
    "    mean_saturation = np.mean(saturation_img, axis=(0,1))\n",
    "    mean_value = np.mean(value_img, axis=(0,1))\n",
    "    \n",
    "    # Computing energy of image\n",
    "    image_arr = np.array(image, dtype=int)\n",
    "    \n",
    "    # Calculating squared differences across RGD pixels\n",
    "    deltaX = np.square(np.roll(image_arr, -1, axis=0) - \n",
    "                       np.roll(image_arr, 1, axis=0)\n",
    "                      )\n",
    "    deltaY = np.square(np.roll(image_arr, -1, axis=1) - \n",
    "                       np.roll(image_arr, 1, axis=1)\n",
    "                      )\n",
    "\n",
    "    # Adding RGB values for each pixel, then shifting\n",
    "    dualEnergy = np.sum(deltaX, axis=2)+np.sum(deltaY, axis=2)\n",
    "    \n",
    "    mean_energy = np.mean(dualEnergy)\n",
    "\n",
    "    mean_hues.append(mean_hue)\n",
    "    mean_saturations.append(mean_saturation)\n",
    "    mean_values.append(mean_value)\n",
    "    mean_energies.append(mean_energy)"
   ]
  },
  {
   "cell_type": "code",
   "execution_count": null,
   "metadata": {},
   "outputs": [],
   "source": [
    "image_df"
   ]
  },
  {
   "cell_type": "code",
   "execution_count": 180,
   "metadata": {},
   "outputs": [
    {
     "data": {
      "text/plain": [
       "'lighthouse-at-the-hospice.jpg'"
      ]
     },
     "execution_count": 180,
     "metadata": {},
     "output_type": "execute_result"
    }
   ],
   "source": [
    "image_df.iloc[0][\"name\"]"
   ]
  },
  {
   "cell_type": "code",
   "execution_count": 181,
   "metadata": {},
   "outputs": [],
   "source": [
    "location=\"/Users/mollyrowland/Downloads/GitHub/dsc160-midterm-group12/data/images/\""
   ]
  },
  {
   "cell_type": "code",
   "execution_count": 221,
   "metadata": {},
   "outputs": [
    {
     "ename": "ValueError",
     "evalue": "the input array must be have a shape == (.., ..,[ ..,] 3)), got (711, 1125, 4)",
     "output_type": "error",
     "traceback": [
      "\u001b[0;31m---------------------------------------------------------------------------\u001b[0m",
      "\u001b[0;31mValueError\u001b[0m                                Traceback (most recent call last)",
      "\u001b[0;32m<ipython-input-221-0310bf5aa9f1>\u001b[0m in \u001b[0;36m<module>\u001b[0;34m\u001b[0m\n\u001b[1;32m      2\u001b[0m \u001b[0;32mfor\u001b[0m \u001b[0mx\u001b[0m \u001b[0;32min\u001b[0m \u001b[0mrange\u001b[0m\u001b[0;34m(\u001b[0m\u001b[0mlen\u001b[0m\u001b[0;34m(\u001b[0m\u001b[0mimage_df\u001b[0m\u001b[0;34m)\u001b[0m\u001b[0;34m)\u001b[0m\u001b[0;34m:\u001b[0m\u001b[0;34m\u001b[0m\u001b[0;34m\u001b[0m\u001b[0m\n\u001b[1;32m      3\u001b[0m     \u001b[0mcount\u001b[0m\u001b[0;34m+=\u001b[0m\u001b[0;36m1\u001b[0m\u001b[0;34m\u001b[0m\u001b[0;34m\u001b[0m\u001b[0m\n\u001b[0;32m----> 4\u001b[0;31m     \u001b[0mtest\u001b[0m\u001b[0;34m(\u001b[0m\u001b[0mlocation\u001b[0m\u001b[0;34m+\u001b[0m\u001b[0mimage_df\u001b[0m\u001b[0;34m.\u001b[0m\u001b[0miloc\u001b[0m\u001b[0;34m[\u001b[0m\u001b[0mx\u001b[0m\u001b[0;34m]\u001b[0m\u001b[0;34m[\u001b[0m\u001b[0;34m\"name\"\u001b[0m\u001b[0;34m]\u001b[0m\u001b[0;34m)\u001b[0m\u001b[0;34m\u001b[0m\u001b[0;34m\u001b[0m\u001b[0m\n\u001b[0m",
      "\u001b[0;32m<ipython-input-219-17d331ebe973>\u001b[0m in \u001b[0;36mtest\u001b[0;34m(img_fp)\u001b[0m\n\u001b[1;32m      2\u001b[0m     \u001b[0mimage\u001b[0m \u001b[0;34m=\u001b[0m \u001b[0mio\u001b[0m\u001b[0;34m.\u001b[0m\u001b[0mimread\u001b[0m\u001b[0;34m(\u001b[0m\u001b[0mimg_fp\u001b[0m\u001b[0;34m)\u001b[0m\u001b[0;34m\u001b[0m\u001b[0;34m\u001b[0m\u001b[0m\n\u001b[1;32m      3\u001b[0m     \u001b[0;31m# Converting image to HSV\u001b[0m\u001b[0;34m\u001b[0m\u001b[0;34m\u001b[0m\u001b[0;34m\u001b[0m\u001b[0m\n\u001b[0;32m----> 4\u001b[0;31m     \u001b[0mhsv_img\u001b[0m \u001b[0;34m=\u001b[0m \u001b[0mrgb2hsv\u001b[0m\u001b[0;34m(\u001b[0m\u001b[0mimage\u001b[0m\u001b[0;34m)\u001b[0m\u001b[0;34m\u001b[0m\u001b[0;34m\u001b[0m\u001b[0m\n\u001b[0m\u001b[1;32m      5\u001b[0m \u001b[0;34m\u001b[0m\u001b[0m\n\u001b[1;32m      6\u001b[0m     \u001b[0;31m# Slicing out different channels\u001b[0m\u001b[0;34m\u001b[0m\u001b[0;34m\u001b[0m\u001b[0;34m\u001b[0m\u001b[0m\n",
      "\u001b[0;32m/opt/anaconda3/lib/python3.7/site-packages/skimage/color/colorconv.py\u001b[0m in \u001b[0;36mrgb2hsv\u001b[0;34m(rgb)\u001b[0m\n\u001b[1;32m    253\u001b[0m     \u001b[0;34m>>\u001b[0m\u001b[0;34m>\u001b[0m \u001b[0mimg_hsv\u001b[0m \u001b[0;34m=\u001b[0m \u001b[0mcolor\u001b[0m\u001b[0;34m.\u001b[0m\u001b[0mrgb2hsv\u001b[0m\u001b[0;34m(\u001b[0m\u001b[0mimg\u001b[0m\u001b[0;34m)\u001b[0m\u001b[0;34m\u001b[0m\u001b[0;34m\u001b[0m\u001b[0m\n\u001b[1;32m    254\u001b[0m     \"\"\"\n\u001b[0;32m--> 255\u001b[0;31m     \u001b[0marr\u001b[0m \u001b[0;34m=\u001b[0m \u001b[0m_prepare_colorarray\u001b[0m\u001b[0;34m(\u001b[0m\u001b[0mrgb\u001b[0m\u001b[0;34m)\u001b[0m\u001b[0;34m\u001b[0m\u001b[0;34m\u001b[0m\u001b[0m\n\u001b[0m\u001b[1;32m    256\u001b[0m     \u001b[0mout\u001b[0m \u001b[0;34m=\u001b[0m \u001b[0mnp\u001b[0m\u001b[0;34m.\u001b[0m\u001b[0mempty_like\u001b[0m\u001b[0;34m(\u001b[0m\u001b[0marr\u001b[0m\u001b[0;34m)\u001b[0m\u001b[0;34m\u001b[0m\u001b[0;34m\u001b[0m\u001b[0m\n\u001b[1;32m    257\u001b[0m \u001b[0;34m\u001b[0m\u001b[0m\n",
      "\u001b[0;32m/opt/anaconda3/lib/python3.7/site-packages/skimage/color/colorconv.py\u001b[0m in \u001b[0;36m_prepare_colorarray\u001b[0;34m(arr)\u001b[0m\n\u001b[1;32m    150\u001b[0m         msg = (\"the input array must be have a shape == (.., ..,[ ..,] 3)), \" +\n\u001b[1;32m    151\u001b[0m                \"got (\" + (\", \".join(map(str, arr.shape))) + \")\")\n\u001b[0;32m--> 152\u001b[0;31m         \u001b[0;32mraise\u001b[0m \u001b[0mValueError\u001b[0m\u001b[0;34m(\u001b[0m\u001b[0mmsg\u001b[0m\u001b[0;34m)\u001b[0m\u001b[0;34m\u001b[0m\u001b[0;34m\u001b[0m\u001b[0m\n\u001b[0m\u001b[1;32m    153\u001b[0m \u001b[0;34m\u001b[0m\u001b[0m\n\u001b[1;32m    154\u001b[0m     \u001b[0;32mreturn\u001b[0m \u001b[0mdtype\u001b[0m\u001b[0;34m.\u001b[0m\u001b[0mimg_as_float\u001b[0m\u001b[0;34m(\u001b[0m\u001b[0marr\u001b[0m\u001b[0;34m)\u001b[0m\u001b[0;34m\u001b[0m\u001b[0;34m\u001b[0m\u001b[0m\n",
      "\u001b[0;31mValueError\u001b[0m: the input array must be have a shape == (.., ..,[ ..,] 3)), got (711, 1125, 4)"
     ]
    }
   ],
   "source": [
    "count=0\n",
    "for x in range(len(image_df)):\n",
    "    count+=1\n",
    "    test(location+image_df.iloc[x][\"name\"])"
   ]
  },
  {
   "cell_type": "code",
   "execution_count": 222,
   "metadata": {},
   "outputs": [
    {
     "data": {
      "text/plain": [
       "896"
      ]
     },
     "execution_count": 222,
     "metadata": {},
     "output_type": "execute_result"
    }
   ],
   "source": [
    "count"
   ]
  },
  {
   "cell_type": "code",
   "execution_count": 215,
   "metadata": {},
   "outputs": [],
   "source": [
    "image_df[\"width\"]=widths"
   ]
  },
  {
   "cell_type": "code",
   "execution_count": 226,
   "metadata": {},
   "outputs": [],
   "source": [
    "test_df=image_df.drop(895, axis=0)"
   ]
  },
  {
   "cell_type": "code",
   "execution_count": 227,
   "metadata": {},
   "outputs": [],
   "source": [
    "test(location+test_df.iloc[895][\"name\"])"
   ]
  },
  {
   "cell_type": "code",
   "execution_count": 230,
   "metadata": {},
   "outputs": [],
   "source": [
    "mean_hues, mean_saturations, mean_values, mean_energies, names=[], [],[],[],[]"
   ]
  },
  {
   "cell_type": "code",
   "execution_count": 231,
   "metadata": {},
   "outputs": [
    {
     "ename": "IndexError",
     "evalue": "single positional indexer is out-of-bounds",
     "output_type": "error",
     "traceback": [
      "\u001b[0;31m---------------------------------------------------------------------------\u001b[0m",
      "\u001b[0;31mIndexError\u001b[0m                                Traceback (most recent call last)",
      "\u001b[0;32m<ipython-input-231-c4404a88b4d1>\u001b[0m in \u001b[0;36m<module>\u001b[0;34m\u001b[0m\n\u001b[1;32m      2\u001b[0m \u001b[0;32mfor\u001b[0m \u001b[0mx\u001b[0m \u001b[0;32min\u001b[0m \u001b[0mrange\u001b[0m\u001b[0;34m(\u001b[0m\u001b[0mlen\u001b[0m\u001b[0;34m(\u001b[0m\u001b[0mimage_df\u001b[0m\u001b[0;34m)\u001b[0m\u001b[0;34m)\u001b[0m\u001b[0;34m:\u001b[0m\u001b[0;34m\u001b[0m\u001b[0;34m\u001b[0m\u001b[0m\n\u001b[1;32m      3\u001b[0m     \u001b[0mcount\u001b[0m\u001b[0;34m+=\u001b[0m\u001b[0;36m1\u001b[0m\u001b[0;34m\u001b[0m\u001b[0;34m\u001b[0m\u001b[0m\n\u001b[0;32m----> 4\u001b[0;31m     \u001b[0mtest\u001b[0m\u001b[0;34m(\u001b[0m\u001b[0mlocation\u001b[0m\u001b[0;34m+\u001b[0m\u001b[0mtest_df\u001b[0m\u001b[0;34m.\u001b[0m\u001b[0miloc\u001b[0m\u001b[0;34m[\u001b[0m\u001b[0mx\u001b[0m\u001b[0;34m]\u001b[0m\u001b[0;34m[\u001b[0m\u001b[0;34m\"name\"\u001b[0m\u001b[0;34m]\u001b[0m\u001b[0;34m)\u001b[0m\u001b[0;34m\u001b[0m\u001b[0;34m\u001b[0m\u001b[0m\n\u001b[0m",
      "\u001b[0;32m/opt/anaconda3/lib/python3.7/site-packages/pandas/core/indexing.py\u001b[0m in \u001b[0;36m__getitem__\u001b[0;34m(self, key)\u001b[0m\n\u001b[1;32m   1422\u001b[0m \u001b[0;34m\u001b[0m\u001b[0m\n\u001b[1;32m   1423\u001b[0m             \u001b[0mmaybe_callable\u001b[0m \u001b[0;34m=\u001b[0m \u001b[0mcom\u001b[0m\u001b[0;34m.\u001b[0m\u001b[0mapply_if_callable\u001b[0m\u001b[0;34m(\u001b[0m\u001b[0mkey\u001b[0m\u001b[0;34m,\u001b[0m \u001b[0mself\u001b[0m\u001b[0;34m.\u001b[0m\u001b[0mobj\u001b[0m\u001b[0;34m)\u001b[0m\u001b[0;34m\u001b[0m\u001b[0;34m\u001b[0m\u001b[0m\n\u001b[0;32m-> 1424\u001b[0;31m             \u001b[0;32mreturn\u001b[0m \u001b[0mself\u001b[0m\u001b[0;34m.\u001b[0m\u001b[0m_getitem_axis\u001b[0m\u001b[0;34m(\u001b[0m\u001b[0mmaybe_callable\u001b[0m\u001b[0;34m,\u001b[0m \u001b[0maxis\u001b[0m\u001b[0;34m=\u001b[0m\u001b[0maxis\u001b[0m\u001b[0;34m)\u001b[0m\u001b[0;34m\u001b[0m\u001b[0;34m\u001b[0m\u001b[0m\n\u001b[0m\u001b[1;32m   1425\u001b[0m \u001b[0;34m\u001b[0m\u001b[0m\n\u001b[1;32m   1426\u001b[0m     \u001b[0;32mdef\u001b[0m \u001b[0m_is_scalar_access\u001b[0m\u001b[0;34m(\u001b[0m\u001b[0mself\u001b[0m\u001b[0;34m,\u001b[0m \u001b[0mkey\u001b[0m\u001b[0;34m:\u001b[0m \u001b[0mTuple\u001b[0m\u001b[0;34m)\u001b[0m\u001b[0;34m:\u001b[0m\u001b[0;34m\u001b[0m\u001b[0;34m\u001b[0m\u001b[0m\n",
      "\u001b[0;32m/opt/anaconda3/lib/python3.7/site-packages/pandas/core/indexing.py\u001b[0m in \u001b[0;36m_getitem_axis\u001b[0;34m(self, key, axis)\u001b[0m\n\u001b[1;32m   2155\u001b[0m \u001b[0;34m\u001b[0m\u001b[0m\n\u001b[1;32m   2156\u001b[0m             \u001b[0;31m# validate the location\u001b[0m\u001b[0;34m\u001b[0m\u001b[0;34m\u001b[0m\u001b[0;34m\u001b[0m\u001b[0m\n\u001b[0;32m-> 2157\u001b[0;31m             \u001b[0mself\u001b[0m\u001b[0;34m.\u001b[0m\u001b[0m_validate_integer\u001b[0m\u001b[0;34m(\u001b[0m\u001b[0mkey\u001b[0m\u001b[0;34m,\u001b[0m \u001b[0maxis\u001b[0m\u001b[0;34m)\u001b[0m\u001b[0;34m\u001b[0m\u001b[0;34m\u001b[0m\u001b[0m\n\u001b[0m\u001b[1;32m   2158\u001b[0m \u001b[0;34m\u001b[0m\u001b[0m\n\u001b[1;32m   2159\u001b[0m             \u001b[0;32mreturn\u001b[0m \u001b[0mself\u001b[0m\u001b[0;34m.\u001b[0m\u001b[0m_get_loc\u001b[0m\u001b[0;34m(\u001b[0m\u001b[0mkey\u001b[0m\u001b[0;34m,\u001b[0m \u001b[0maxis\u001b[0m\u001b[0;34m=\u001b[0m\u001b[0maxis\u001b[0m\u001b[0;34m)\u001b[0m\u001b[0;34m\u001b[0m\u001b[0;34m\u001b[0m\u001b[0m\n",
      "\u001b[0;32m/opt/anaconda3/lib/python3.7/site-packages/pandas/core/indexing.py\u001b[0m in \u001b[0;36m_validate_integer\u001b[0;34m(self, key, axis)\u001b[0m\n\u001b[1;32m   2086\u001b[0m         \u001b[0mlen_axis\u001b[0m \u001b[0;34m=\u001b[0m \u001b[0mlen\u001b[0m\u001b[0;34m(\u001b[0m\u001b[0mself\u001b[0m\u001b[0;34m.\u001b[0m\u001b[0mobj\u001b[0m\u001b[0;34m.\u001b[0m\u001b[0m_get_axis\u001b[0m\u001b[0;34m(\u001b[0m\u001b[0maxis\u001b[0m\u001b[0;34m)\u001b[0m\u001b[0;34m)\u001b[0m\u001b[0;34m\u001b[0m\u001b[0;34m\u001b[0m\u001b[0m\n\u001b[1;32m   2087\u001b[0m         \u001b[0;32mif\u001b[0m \u001b[0mkey\u001b[0m \u001b[0;34m>=\u001b[0m \u001b[0mlen_axis\u001b[0m \u001b[0;32mor\u001b[0m \u001b[0mkey\u001b[0m \u001b[0;34m<\u001b[0m \u001b[0;34m-\u001b[0m\u001b[0mlen_axis\u001b[0m\u001b[0;34m:\u001b[0m\u001b[0;34m\u001b[0m\u001b[0;34m\u001b[0m\u001b[0m\n\u001b[0;32m-> 2088\u001b[0;31m             \u001b[0;32mraise\u001b[0m \u001b[0mIndexError\u001b[0m\u001b[0;34m(\u001b[0m\u001b[0;34m\"single positional indexer is out-of-bounds\"\u001b[0m\u001b[0;34m)\u001b[0m\u001b[0;34m\u001b[0m\u001b[0;34m\u001b[0m\u001b[0m\n\u001b[0m\u001b[1;32m   2089\u001b[0m \u001b[0;34m\u001b[0m\u001b[0m\n\u001b[1;32m   2090\u001b[0m     \u001b[0;32mdef\u001b[0m \u001b[0m_getitem_tuple\u001b[0m\u001b[0;34m(\u001b[0m\u001b[0mself\u001b[0m\u001b[0;34m,\u001b[0m \u001b[0mtup\u001b[0m\u001b[0;34m)\u001b[0m\u001b[0;34m:\u001b[0m\u001b[0;34m\u001b[0m\u001b[0;34m\u001b[0m\u001b[0m\n",
      "\u001b[0;31mIndexError\u001b[0m: single positional indexer is out-of-bounds"
     ]
    }
   ],
   "source": [
    "count=0\n",
    "for x in range(len(image_df)):\n",
    "    count+=1\n",
    "    test(location+test_df.iloc[x][\"name\"])"
   ]
  },
  {
   "cell_type": "code",
   "execution_count": 232,
   "metadata": {},
   "outputs": [
    {
     "data": {
      "text/plain": [
       "1365"
      ]
     },
     "execution_count": 232,
     "metadata": {},
     "output_type": "execute_result"
    }
   ],
   "source": [
    "count"
   ]
  },
  {
   "cell_type": "code",
   "execution_count": 234,
   "metadata": {},
   "outputs": [
    {
     "data": {
      "text/plain": [
       "1364"
      ]
     },
     "execution_count": 234,
     "metadata": {},
     "output_type": "execute_result"
    }
   ],
   "source": [
    "len(mean_hues)"
   ]
  },
  {
   "cell_type": "code",
   "execution_count": 237,
   "metadata": {},
   "outputs": [],
   "source": [
    "image_df=test_df"
   ]
  },
  {
   "cell_type": "code",
   "execution_count": 240,
   "metadata": {},
   "outputs": [
    {
     "data": {
      "text/plain": [
       "Index(['name', 'date', 'style', 'genre', 'height', 'width', 'mean_hue'], dtype='object')"
      ]
     },
     "execution_count": 240,
     "metadata": {},
     "output_type": "execute_result"
    }
   ],
   "source": [
    "image_df.columns"
   ]
  },
  {
   "cell_type": "code",
   "execution_count": 243,
   "metadata": {},
   "outputs": [],
   "source": [
    "image_df[\"mean_energy\"]=mean_energies"
   ]
  },
  {
   "cell_type": "code",
   "execution_count": 189,
   "metadata": {},
   "outputs": [
    {
     "data": {
      "text/plain": [
       "2286"
      ]
     },
     "execution_count": 189,
     "metadata": {},
     "output_type": "execute_result"
    }
   ],
   "source": [
    "len(widths)"
   ]
  },
  {
   "cell_type": "code",
   "execution_count": null,
   "metadata": {},
   "outputs": [],
   "source": []
  }
 ],
 "metadata": {
  "kernelspec": {
   "display_name": "Python 3",
   "language": "python",
   "name": "python3"
  }
 },
 "nbformat": 4,
 "nbformat_minor": 2
}
