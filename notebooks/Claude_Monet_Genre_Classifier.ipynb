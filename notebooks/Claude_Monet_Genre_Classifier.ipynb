{
 "cells": [
  {
   "cell_type": "markdown",
   "metadata": {},
   "source": [
    "## Claude Monet Genre Classifier\n",
    "\n",
    "The purpose of this notebook is to explore and build a model that is capable of accurately classifying Claude Monet's work. The data that the model will be training and tested on comes from www.wikiart.org."
   ]
  },
  {
   "cell_type": "markdown",
   "metadata": {},
   "source": [
    "Let's begin by importing libraries that we will need to build our model."
   ]
  },
  {
   "cell_type": "code",
   "execution_count": 1,
   "metadata": {},
   "outputs": [],
   "source": [
    "import numpy as np\n",
    "import pandas as pd\n",
    "import matplotlib.pyplot as plt\n",
    "from sklearn.model_selection import GridSearchCV\n",
    "from sklearn.model_selection import train_test_split\n",
    "from sklearn.metrics import classification_report\n",
    "from sklearn.linear_model import LogisticRegression\n",
    "from sklearn.neighbors import KNeighborsClassifier\n",
    "from sklearn.svm import SVC\n",
    "from sklearn.naive_bayes import GaussianNB\n",
    "from sklearn.ensemble import RandomForestClassifier\n",
    "\n",
    "import warnings\n",
    "warnings.filterwarnings('ignore')"
   ]
  },
  {
   "cell_type": "markdown",
   "metadata": {},
   "source": [
    "Now, we load in the data that will be used for the model. \n",
    "\n",
    "**Note:** The features in this data set consists of information that was webscraped from www.wikiart.org and features that were generated on Monet's work computationally. The code that was used to generate these features are in the `/code` folder of this repository."
   ]
  },
  {
   "cell_type": "code",
   "execution_count": 2,
   "metadata": {},
   "outputs": [
    {
     "data": {
      "text/html": [
       "<div>\n",
       "<style scoped>\n",
       "    .dataframe tbody tr th:only-of-type {\n",
       "        vertical-align: middle;\n",
       "    }\n",
       "\n",
       "    .dataframe tbody tr th {\n",
       "        vertical-align: top;\n",
       "    }\n",
       "\n",
       "    .dataframe thead th {\n",
       "        text-align: right;\n",
       "    }\n",
       "</style>\n",
       "<table border=\"1\" class=\"dataframe\">\n",
       "  <thead>\n",
       "    <tr style=\"text-align: right;\">\n",
       "      <th></th>\n",
       "      <th>date</th>\n",
       "      <th>genre</th>\n",
       "      <th>height</th>\n",
       "      <th>width</th>\n",
       "      <th>mean_hue</th>\n",
       "      <th>mean_saturation</th>\n",
       "      <th>mean_value</th>\n",
       "      <th>mean_energy</th>\n",
       "      <th>edge_count</th>\n",
       "      <th>has_face</th>\n",
       "    </tr>\n",
       "  </thead>\n",
       "  <tbody>\n",
       "    <tr>\n",
       "      <th>0</th>\n",
       "      <td>1864</td>\n",
       "      <td>cityscape</td>\n",
       "      <td>848</td>\n",
       "      <td>1280</td>\n",
       "      <td>0.161592</td>\n",
       "      <td>0.369811</td>\n",
       "      <td>0.639680</td>\n",
       "      <td>1581.759686</td>\n",
       "      <td>848</td>\n",
       "      <td>0</td>\n",
       "    </tr>\n",
       "    <tr>\n",
       "      <th>1</th>\n",
       "      <td>1858</td>\n",
       "      <td>landscape</td>\n",
       "      <td>797</td>\n",
       "      <td>1280</td>\n",
       "      <td>0.418561</td>\n",
       "      <td>0.323907</td>\n",
       "      <td>0.559839</td>\n",
       "      <td>1304.028243</td>\n",
       "      <td>797</td>\n",
       "      <td>0</td>\n",
       "    </tr>\n",
       "    <tr>\n",
       "      <th>2</th>\n",
       "      <td>1861</td>\n",
       "      <td>self-portrait</td>\n",
       "      <td>1273</td>\n",
       "      <td>881</td>\n",
       "      <td>0.465204</td>\n",
       "      <td>0.360307</td>\n",
       "      <td>0.356693</td>\n",
       "      <td>9083.166369</td>\n",
       "      <td>1273</td>\n",
       "      <td>0</td>\n",
       "    </tr>\n",
       "    <tr>\n",
       "      <th>3</th>\n",
       "      <td>1862</td>\n",
       "      <td>still life</td>\n",
       "      <td>1200</td>\n",
       "      <td>850</td>\n",
       "      <td>0.300296</td>\n",
       "      <td>0.622229</td>\n",
       "      <td>0.386603</td>\n",
       "      <td>1323.287669</td>\n",
       "      <td>1200</td>\n",
       "      <td>0</td>\n",
       "    </tr>\n",
       "    <tr>\n",
       "      <th>4</th>\n",
       "      <td>1863</td>\n",
       "      <td>landscape</td>\n",
       "      <td>974</td>\n",
       "      <td>1280</td>\n",
       "      <td>0.129511</td>\n",
       "      <td>0.490746</td>\n",
       "      <td>0.463133</td>\n",
       "      <td>1584.791794</td>\n",
       "      <td>974</td>\n",
       "      <td>0</td>\n",
       "    </tr>\n",
       "  </tbody>\n",
       "</table>\n",
       "</div>"
      ],
      "text/plain": [
       "   date          genre  height  width  mean_hue  mean_saturation  mean_value  \\\n",
       "0  1864      cityscape     848   1280  0.161592         0.369811    0.639680   \n",
       "1  1858      landscape     797   1280  0.418561         0.323907    0.559839   \n",
       "2  1861  self-portrait    1273    881  0.465204         0.360307    0.356693   \n",
       "3  1862     still life    1200    850  0.300296         0.622229    0.386603   \n",
       "4  1863      landscape     974   1280  0.129511         0.490746    0.463133   \n",
       "\n",
       "   mean_energy  edge_count  has_face  \n",
       "0  1581.759686         848         0  \n",
       "1  1304.028243         797         0  \n",
       "2  9083.166369        1273         0  \n",
       "3  1323.287669        1200         0  \n",
       "4  1584.791794         974         0  "
      ]
     },
     "execution_count": 2,
     "metadata": {},
     "output_type": "execute_result"
    }
   ],
   "source": [
    "# Loading in data\n",
    "images = pd.read_csv('../data/data.csv')\n",
    "images = images.drop(['name', 'style'], axis=1)\n",
    "images.head()"
   ]
  },
  {
   "cell_type": "markdown",
   "metadata": {},
   "source": [
    "### Genre Adjustment"
   ]
  },
  {
   "cell_type": "markdown",
   "metadata": {},
   "source": [
    "Our classifier will attempt to predict the `genre` class from the other features. However, there seems to be too many genres and a misbalance between them as well:"
   ]
  },
  {
   "cell_type": "code",
   "execution_count": 3,
   "metadata": {},
   "outputs": [
    {
     "data": {
      "text/plain": [
       "landscape          780\n",
       "cityscape          256\n",
       "flower painting    165\n",
       "genre painting      70\n",
       "portrait            35\n",
       "marina              32\n",
       "still life          18\n",
       "self-portrait        5\n",
       "animal painting      2\n",
       "architecture         1\n",
       "Name: genre, dtype: int64"
      ]
     },
     "execution_count": 3,
     "metadata": {},
     "output_type": "execute_result"
    }
   ],
   "source": [
    "images['genre'].value_counts()"
   ]
  },
  {
   "cell_type": "markdown",
   "metadata": {},
   "source": [
    "We noticed that although they are each different genres, some of these genres share similarities. For example, the genres 'painting', 'portrait', and 'self-portrait' typically depict people. Therefore, we will group these genres together into a single `people` genre. Other genres such as 'architecture', 'animal painting', 'still life', and 'marina' are sparse in the data set and/or, from our understanding, unrelated to the others. Therefore, we will not be working with these genres."
   ]
  },
  {
   "cell_type": "code",
   "execution_count": 4,
   "metadata": {},
   "outputs": [],
   "source": [
    "# Creating people genre\n",
    "people_genres = ['genre painting', 'portrait', 'self-portrait']\n",
    "images['genre'] = images['genre'].apply(lambda x: 'people' if x in people_genres else x)\n",
    "\n",
    "# Removing unused genres\n",
    "removed_genres = ['marina', 'still life', 'animal painting', 'architecture']\n",
    "images = images[~images['genre'].isin(removed_genres)]"
   ]
  },
  {
   "cell_type": "code",
   "execution_count": 5,
   "metadata": {},
   "outputs": [
    {
     "data": {
      "text/plain": [
       "landscape          780\n",
       "cityscape          256\n",
       "flower painting    165\n",
       "people             110\n",
       "Name: genre, dtype: int64"
      ]
     },
     "execution_count": 5,
     "metadata": {},
     "output_type": "execute_result"
    }
   ],
   "source": [
    "images['genre'].value_counts()"
   ]
  },
  {
   "cell_type": "code",
   "execution_count": 6,
   "metadata": {},
   "outputs": [
    {
     "data": {
      "text/plain": [
       "1311"
      ]
     },
     "execution_count": 6,
     "metadata": {},
     "output_type": "execute_result"
    }
   ],
   "source": [
    "len(images)"
   ]
  },
  {
   "cell_type": "markdown",
   "metadata": {},
   "source": [
    "The data set has now been minimized to 4 genres. A misbalance still exists so this will be taken into consideration going forward."
   ]
  },
  {
   "cell_type": "markdown",
   "metadata": {},
   "source": [
    "### Data Preparation"
   ]
  },
  {
   "cell_type": "markdown",
   "metadata": {},
   "source": [
    "In order to build the classifier, the features our model will train on must be numerical. Thankfully all of the features are numerical. However, 'date' should instead be treated as categorical due to the fact that one year is not necessarily larger than another year (atleast for the purposes of this project).\n",
    "\n",
    "Let's examine the number of unique years in this data set:"
   ]
  },
  {
   "cell_type": "code",
   "execution_count": 7,
   "metadata": {},
   "outputs": [
    {
     "data": {
      "text/plain": [
       "60"
      ]
     },
     "execution_count": 7,
     "metadata": {},
     "output_type": "execute_result"
    }
   ],
   "source": [
    "images['date'].nunique()"
   ]
  },
  {
   "cell_type": "markdown",
   "metadata": {},
   "source": [
    "Typically, we could one hot encode these features but encoding 60 different years this way may not be so ideal. Instead, we will group the years into their respective decade:"
   ]
  },
  {
   "cell_type": "code",
   "execution_count": 8,
   "metadata": {},
   "outputs": [
    {
     "data": {
      "text/plain": [
       "1880    438\n",
       "1870    301\n",
       "1890    183\n",
       "1900    164\n",
       "1860     88\n",
       "1910     86\n",
       "1920     50\n",
       "1850      1\n",
       "Name: date, dtype: int64"
      ]
     },
     "execution_count": 8,
     "metadata": {},
     "output_type": "execute_result"
    }
   ],
   "source": [
    "images['date'] = images['date'].apply(lambda x: str(x)[:3]+'0')\n",
    "images['date'].value_counts()"
   ]
  },
  {
   "cell_type": "markdown",
   "metadata": {},
   "source": [
    "We have now minimized this down to 8 different decades! Now we can proceed with one hot encoding."
   ]
  },
  {
   "cell_type": "code",
   "execution_count": 9,
   "metadata": {},
   "outputs": [
    {
     "data": {
      "text/html": [
       "<div>\n",
       "<style scoped>\n",
       "    .dataframe tbody tr th:only-of-type {\n",
       "        vertical-align: middle;\n",
       "    }\n",
       "\n",
       "    .dataframe tbody tr th {\n",
       "        vertical-align: top;\n",
       "    }\n",
       "\n",
       "    .dataframe thead th {\n",
       "        text-align: right;\n",
       "    }\n",
       "</style>\n",
       "<table border=\"1\" class=\"dataframe\">\n",
       "  <thead>\n",
       "    <tr style=\"text-align: right;\">\n",
       "      <th></th>\n",
       "      <th>genre</th>\n",
       "      <th>height</th>\n",
       "      <th>width</th>\n",
       "      <th>mean_hue</th>\n",
       "      <th>mean_saturation</th>\n",
       "      <th>mean_value</th>\n",
       "      <th>mean_energy</th>\n",
       "      <th>edge_count</th>\n",
       "      <th>has_face</th>\n",
       "      <th>1850</th>\n",
       "      <th>1860</th>\n",
       "      <th>1870</th>\n",
       "      <th>1880</th>\n",
       "      <th>1890</th>\n",
       "      <th>1900</th>\n",
       "      <th>1910</th>\n",
       "      <th>1920</th>\n",
       "    </tr>\n",
       "  </thead>\n",
       "  <tbody>\n",
       "    <tr>\n",
       "      <th>0</th>\n",
       "      <td>cityscape</td>\n",
       "      <td>848</td>\n",
       "      <td>1280</td>\n",
       "      <td>0.161592</td>\n",
       "      <td>0.369811</td>\n",
       "      <td>0.639680</td>\n",
       "      <td>1581.759686</td>\n",
       "      <td>848</td>\n",
       "      <td>0</td>\n",
       "      <td>0</td>\n",
       "      <td>1</td>\n",
       "      <td>0</td>\n",
       "      <td>0</td>\n",
       "      <td>0</td>\n",
       "      <td>0</td>\n",
       "      <td>0</td>\n",
       "      <td>0</td>\n",
       "    </tr>\n",
       "    <tr>\n",
       "      <th>1</th>\n",
       "      <td>landscape</td>\n",
       "      <td>797</td>\n",
       "      <td>1280</td>\n",
       "      <td>0.418561</td>\n",
       "      <td>0.323907</td>\n",
       "      <td>0.559839</td>\n",
       "      <td>1304.028243</td>\n",
       "      <td>797</td>\n",
       "      <td>0</td>\n",
       "      <td>1</td>\n",
       "      <td>0</td>\n",
       "      <td>0</td>\n",
       "      <td>0</td>\n",
       "      <td>0</td>\n",
       "      <td>0</td>\n",
       "      <td>0</td>\n",
       "      <td>0</td>\n",
       "    </tr>\n",
       "    <tr>\n",
       "      <th>2</th>\n",
       "      <td>people</td>\n",
       "      <td>1273</td>\n",
       "      <td>881</td>\n",
       "      <td>0.465204</td>\n",
       "      <td>0.360307</td>\n",
       "      <td>0.356693</td>\n",
       "      <td>9083.166369</td>\n",
       "      <td>1273</td>\n",
       "      <td>0</td>\n",
       "      <td>0</td>\n",
       "      <td>1</td>\n",
       "      <td>0</td>\n",
       "      <td>0</td>\n",
       "      <td>0</td>\n",
       "      <td>0</td>\n",
       "      <td>0</td>\n",
       "      <td>0</td>\n",
       "    </tr>\n",
       "    <tr>\n",
       "      <th>4</th>\n",
       "      <td>landscape</td>\n",
       "      <td>974</td>\n",
       "      <td>1280</td>\n",
       "      <td>0.129511</td>\n",
       "      <td>0.490746</td>\n",
       "      <td>0.463133</td>\n",
       "      <td>1584.791794</td>\n",
       "      <td>974</td>\n",
       "      <td>0</td>\n",
       "      <td>0</td>\n",
       "      <td>1</td>\n",
       "      <td>0</td>\n",
       "      <td>0</td>\n",
       "      <td>0</td>\n",
       "      <td>0</td>\n",
       "      <td>0</td>\n",
       "      <td>0</td>\n",
       "    </tr>\n",
       "    <tr>\n",
       "      <th>6</th>\n",
       "      <td>landscape</td>\n",
       "      <td>907</td>\n",
       "      <td>1280</td>\n",
       "      <td>0.327326</td>\n",
       "      <td>0.226113</td>\n",
       "      <td>0.711511</td>\n",
       "      <td>2491.539824</td>\n",
       "      <td>907</td>\n",
       "      <td>0</td>\n",
       "      <td>0</td>\n",
       "      <td>1</td>\n",
       "      <td>0</td>\n",
       "      <td>0</td>\n",
       "      <td>0</td>\n",
       "      <td>0</td>\n",
       "      <td>0</td>\n",
       "      <td>0</td>\n",
       "    </tr>\n",
       "  </tbody>\n",
       "</table>\n",
       "</div>"
      ],
      "text/plain": [
       "       genre  height  width  mean_hue  mean_saturation  mean_value  \\\n",
       "0  cityscape     848   1280  0.161592         0.369811    0.639680   \n",
       "1  landscape     797   1280  0.418561         0.323907    0.559839   \n",
       "2     people    1273    881  0.465204         0.360307    0.356693   \n",
       "4  landscape     974   1280  0.129511         0.490746    0.463133   \n",
       "6  landscape     907   1280  0.327326         0.226113    0.711511   \n",
       "\n",
       "   mean_energy  edge_count  has_face  1850  1860  1870  1880  1890  1900  \\\n",
       "0  1581.759686         848         0     0     1     0     0     0     0   \n",
       "1  1304.028243         797         0     1     0     0     0     0     0   \n",
       "2  9083.166369        1273         0     0     1     0     0     0     0   \n",
       "4  1584.791794         974         0     0     1     0     0     0     0   \n",
       "6  2491.539824         907         0     0     1     0     0     0     0   \n",
       "\n",
       "   1910  1920  \n",
       "0     0     0  \n",
       "1     0     0  \n",
       "2     0     0  \n",
       "4     0     0  \n",
       "6     0     0  "
      ]
     },
     "execution_count": 9,
     "metadata": {},
     "output_type": "execute_result"
    }
   ],
   "source": [
    "encoded_dates = pd.get_dummies(images['date'])\n",
    "images = pd.concat([images, encoded_dates], axis=1)\n",
    "images = images.drop('date', axis=1)\n",
    "images.head()"
   ]
  },
  {
   "cell_type": "markdown",
   "metadata": {},
   "source": [
    "Lastly, we assign numaerical values to each of the genres."
   ]
  },
  {
   "cell_type": "code",
   "execution_count": 10,
   "metadata": {},
   "outputs": [
    {
     "data": {
      "text/html": [
       "<div>\n",
       "<style scoped>\n",
       "    .dataframe tbody tr th:only-of-type {\n",
       "        vertical-align: middle;\n",
       "    }\n",
       "\n",
       "    .dataframe tbody tr th {\n",
       "        vertical-align: top;\n",
       "    }\n",
       "\n",
       "    .dataframe thead th {\n",
       "        text-align: right;\n",
       "    }\n",
       "</style>\n",
       "<table border=\"1\" class=\"dataframe\">\n",
       "  <thead>\n",
       "    <tr style=\"text-align: right;\">\n",
       "      <th></th>\n",
       "      <th>genre</th>\n",
       "      <th>height</th>\n",
       "      <th>width</th>\n",
       "      <th>mean_hue</th>\n",
       "      <th>mean_saturation</th>\n",
       "      <th>mean_value</th>\n",
       "      <th>mean_energy</th>\n",
       "      <th>edge_count</th>\n",
       "      <th>has_face</th>\n",
       "      <th>1850</th>\n",
       "      <th>1860</th>\n",
       "      <th>1870</th>\n",
       "      <th>1880</th>\n",
       "      <th>1890</th>\n",
       "      <th>1900</th>\n",
       "      <th>1910</th>\n",
       "      <th>1920</th>\n",
       "    </tr>\n",
       "  </thead>\n",
       "  <tbody>\n",
       "    <tr>\n",
       "      <th>0</th>\n",
       "      <td>1</td>\n",
       "      <td>848</td>\n",
       "      <td>1280</td>\n",
       "      <td>0.161592</td>\n",
       "      <td>0.369811</td>\n",
       "      <td>0.639680</td>\n",
       "      <td>1581.759686</td>\n",
       "      <td>848</td>\n",
       "      <td>0</td>\n",
       "      <td>0</td>\n",
       "      <td>1</td>\n",
       "      <td>0</td>\n",
       "      <td>0</td>\n",
       "      <td>0</td>\n",
       "      <td>0</td>\n",
       "      <td>0</td>\n",
       "      <td>0</td>\n",
       "    </tr>\n",
       "    <tr>\n",
       "      <th>1</th>\n",
       "      <td>0</td>\n",
       "      <td>797</td>\n",
       "      <td>1280</td>\n",
       "      <td>0.418561</td>\n",
       "      <td>0.323907</td>\n",
       "      <td>0.559839</td>\n",
       "      <td>1304.028243</td>\n",
       "      <td>797</td>\n",
       "      <td>0</td>\n",
       "      <td>1</td>\n",
       "      <td>0</td>\n",
       "      <td>0</td>\n",
       "      <td>0</td>\n",
       "      <td>0</td>\n",
       "      <td>0</td>\n",
       "      <td>0</td>\n",
       "      <td>0</td>\n",
       "    </tr>\n",
       "    <tr>\n",
       "      <th>2</th>\n",
       "      <td>3</td>\n",
       "      <td>1273</td>\n",
       "      <td>881</td>\n",
       "      <td>0.465204</td>\n",
       "      <td>0.360307</td>\n",
       "      <td>0.356693</td>\n",
       "      <td>9083.166369</td>\n",
       "      <td>1273</td>\n",
       "      <td>0</td>\n",
       "      <td>0</td>\n",
       "      <td>1</td>\n",
       "      <td>0</td>\n",
       "      <td>0</td>\n",
       "      <td>0</td>\n",
       "      <td>0</td>\n",
       "      <td>0</td>\n",
       "      <td>0</td>\n",
       "    </tr>\n",
       "    <tr>\n",
       "      <th>4</th>\n",
       "      <td>0</td>\n",
       "      <td>974</td>\n",
       "      <td>1280</td>\n",
       "      <td>0.129511</td>\n",
       "      <td>0.490746</td>\n",
       "      <td>0.463133</td>\n",
       "      <td>1584.791794</td>\n",
       "      <td>974</td>\n",
       "      <td>0</td>\n",
       "      <td>0</td>\n",
       "      <td>1</td>\n",
       "      <td>0</td>\n",
       "      <td>0</td>\n",
       "      <td>0</td>\n",
       "      <td>0</td>\n",
       "      <td>0</td>\n",
       "      <td>0</td>\n",
       "    </tr>\n",
       "    <tr>\n",
       "      <th>6</th>\n",
       "      <td>0</td>\n",
       "      <td>907</td>\n",
       "      <td>1280</td>\n",
       "      <td>0.327326</td>\n",
       "      <td>0.226113</td>\n",
       "      <td>0.711511</td>\n",
       "      <td>2491.539824</td>\n",
       "      <td>907</td>\n",
       "      <td>0</td>\n",
       "      <td>0</td>\n",
       "      <td>1</td>\n",
       "      <td>0</td>\n",
       "      <td>0</td>\n",
       "      <td>0</td>\n",
       "      <td>0</td>\n",
       "      <td>0</td>\n",
       "      <td>0</td>\n",
       "    </tr>\n",
       "  </tbody>\n",
       "</table>\n",
       "</div>"
      ],
      "text/plain": [
       "   genre  height  width  mean_hue  mean_saturation  mean_value  mean_energy  \\\n",
       "0      1     848   1280  0.161592         0.369811    0.639680  1581.759686   \n",
       "1      0     797   1280  0.418561         0.323907    0.559839  1304.028243   \n",
       "2      3    1273    881  0.465204         0.360307    0.356693  9083.166369   \n",
       "4      0     974   1280  0.129511         0.490746    0.463133  1584.791794   \n",
       "6      0     907   1280  0.327326         0.226113    0.711511  2491.539824   \n",
       "\n",
       "   edge_count  has_face  1850  1860  1870  1880  1890  1900  1910  1920  \n",
       "0         848         0     0     1     0     0     0     0     0     0  \n",
       "1         797         0     1     0     0     0     0     0     0     0  \n",
       "2        1273         0     0     1     0     0     0     0     0     0  \n",
       "4         974         0     0     1     0     0     0     0     0     0  \n",
       "6         907         0     0     1     0     0     0     0     0     0  "
      ]
     },
     "execution_count": 10,
     "metadata": {},
     "output_type": "execute_result"
    }
   ],
   "source": [
    "genre_encoder = {'landscape': 0, 'cityscape': 1, \n",
    "                 'flower painting': 2, 'people': 3}\n",
    "images['genre'] = images['genre'].replace(genre_encoder)\n",
    "images.head()"
   ]
  },
  {
   "cell_type": "markdown",
   "metadata": {},
   "source": [
    "### Model Building\n",
    "\n",
    "We will now be construcitng our model. A series of machine learning algortihms will be tested and tuned to determine which is best for classifying Monet's work."
   ]
  },
  {
   "cell_type": "markdown",
   "metadata": {},
   "source": [
    "First we must split the data into a training and validation test – a 75/25 split will be used."
   ]
  },
  {
   "cell_type": "code",
   "execution_count": 11,
   "metadata": {},
   "outputs": [],
   "source": [
    "X = images.drop('genre', axis=1)\n",
    "y = images['genre']\n",
    "\n",
    "X_train, X_test, y_train, y_test = train_test_split(\n",
    "                                    X, y, test_size=0.25, \n",
    "                                    random_state=0\n",
    "                                    )"
   ]
  },
  {
   "cell_type": "markdown",
   "metadata": {},
   "source": [
    "#### Logistic Regression"
   ]
  },
  {
   "cell_type": "code",
   "execution_count": 12,
   "metadata": {},
   "outputs": [
    {
     "name": "stdout",
     "output_type": "stream",
     "text": [
      "The accuracy for the Logistic Regression model is 73.17%\n"
     ]
    }
   ],
   "source": [
    "lg_parameters = {'tol':[.1, .001, .0001], 'C':[10, 1, .1]}\n",
    "lg = LogisticRegression()\n",
    "clf1 = GridSearchCV(lg, lg_parameters)\n",
    "\n",
    "clf1.fit(X_train, y_train)\n",
    "preds_lg = clf1.predict(X_test)\n",
    "accuracy_lr = np.round(np.mean(y_test == preds_lg)*100, 2)\n",
    "\n",
    "print('The accuracy for the Logistic Regression model is {}%'.format(accuracy_lr))"
   ]
  },
  {
   "cell_type": "code",
   "execution_count": 13,
   "metadata": {},
   "outputs": [
    {
     "name": "stdout",
     "output_type": "stream",
     "text": [
      "Class Accuracies:\n"
     ]
    },
    {
     "data": {
      "text/plain": [
       "Genre\n",
       "cityscape          0.500000\n",
       "flower painting    0.369565\n",
       "landscape          0.931373\n",
       "people             0.200000\n",
       "dtype: float64"
      ]
     },
     "execution_count": 13,
     "metadata": {},
     "output_type": "execute_result"
    }
   ],
   "source": [
    "# Creating dataframe of predictions and truth\n",
    "class_map = {0: 'landscape', 1: 'cityscape', \n",
    "             2: 'flower painting', 3: 'people'}\n",
    "classifier_df = pd.DataFrame({'True':y_test, \n",
    "                              'Predicted': preds_lg})\n",
    "classifier_df['Genre'] = classifier_df['True'].replace(class_map)\n",
    "\n",
    "# Computing accuracy across classes\n",
    "print('Class Accuracies:')\n",
    "lr_accuracies = classifier_df.groupby('Genre').apply(lambda x: np.mean(x['True'] == x['Predicted']))\n",
    "lr_accuracies"
   ]
  },
  {
   "cell_type": "markdown",
   "metadata": {},
   "source": [
    "#### K Nearest Neighbors"
   ]
  },
  {
   "cell_type": "code",
   "execution_count": 14,
   "metadata": {},
   "outputs": [
    {
     "name": "stdout",
     "output_type": "stream",
     "text": [
      "The accuracy for the K Nearest Neighbors model is 61.58536585365854%\n"
     ]
    }
   ],
   "source": [
    "knn_parameters = {'n_neighbors':[10, 5, 3, 1], 'p':[2, 1]}\n",
    "knn = KNeighborsClassifier()\n",
    "clf2 = GridSearchCV(knn, knn_parameters)\n",
    "\n",
    "clf2.fit(X_train, y_train)\n",
    "preds_knn = clf2.predict(X_test)\n",
    "accuracy_knn2 = np.mean(y_test == preds_knn)*100\n",
    "\n",
    "print('The accuracy for the K Nearest Neighbors model is {}%'.format(accuracy_knn2))"
   ]
  },
  {
   "cell_type": "code",
   "execution_count": 15,
   "metadata": {},
   "outputs": [
    {
     "name": "stdout",
     "output_type": "stream",
     "text": [
      "Class Accuracies:\n"
     ]
    },
    {
     "data": {
      "text/plain": [
       "Genre\n",
       "cityscape          0.034483\n",
       "flower painting    0.065217\n",
       "landscape          0.965686\n",
       "people             0.000000\n",
       "dtype: float64"
      ]
     },
     "execution_count": 15,
     "metadata": {},
     "output_type": "execute_result"
    }
   ],
   "source": [
    "classifier_df = pd.DataFrame({'True':y_test, \n",
    "                              'Predicted': preds_knn})\n",
    "classifier_df['Genre'] = classifier_df['True'].replace(class_map)\n",
    "\n",
    "# Computing accuracy across classes\n",
    "print('Class Accuracies:')\n",
    "knn_accuracies = classifier_df.groupby('Genre').apply(lambda x: np.mean(x['True'] == x['Predicted']))\n",
    "knn_accuracies"
   ]
  },
  {
   "cell_type": "markdown",
   "metadata": {},
   "source": [
    "#### Support Vector Machine"
   ]
  },
  {
   "cell_type": "code",
   "execution_count": 16,
   "metadata": {},
   "outputs": [
    {
     "name": "stdout",
     "output_type": "stream",
     "text": [
      "The accuracy for the Support Vector Machine model is 62.19512195121951%\n"
     ]
    }
   ],
   "source": [
    "svc_parameters = {'tol': [.1, .001, .0001], 'C':[10, 1, .1]}\n",
    "svc = SVC()\n",
    "clf3 = GridSearchCV(svc, svc_parameters)\n",
    "\n",
    "clf3.fit(X_train, y_train)\n",
    "preds_svc = clf3.predict(X_test)\n",
    "accuracy_svc2 = np.mean(y_test == preds_svc)*100\n",
    "\n",
    "print('The accuracy for the Support Vector Machine model is {}%'.format(accuracy_svc2))"
   ]
  },
  {
   "cell_type": "code",
   "execution_count": 17,
   "metadata": {},
   "outputs": [
    {
     "name": "stdout",
     "output_type": "stream",
     "text": [
      "Class Accuracies:\n"
     ]
    },
    {
     "data": {
      "text/plain": [
       "Genre\n",
       "cityscape          0.0\n",
       "flower painting    0.0\n",
       "landscape          1.0\n",
       "people             0.0\n",
       "dtype: float64"
      ]
     },
     "execution_count": 17,
     "metadata": {},
     "output_type": "execute_result"
    }
   ],
   "source": [
    "classifier_df = pd.DataFrame({'True':y_test, \n",
    "                              'Predicted': preds_svc})\n",
    "classifier_df['Genre'] = classifier_df['True'].replace(class_map)\n",
    "\n",
    "# Computing accuracy across classes\n",
    "print('Class Accuracies:')\n",
    "svm_accuracies = classifier_df.groupby('Genre').apply(lambda x: np.mean(x['True'] == x['Predicted']))\n",
    "svm_accuracies"
   ]
  },
  {
   "cell_type": "markdown",
   "metadata": {},
   "source": [
    "#### Naive Bayes'"
   ]
  },
  {
   "cell_type": "code",
   "execution_count": 18,
   "metadata": {},
   "outputs": [
    {
     "name": "stdout",
     "output_type": "stream",
     "text": [
      "The accuracy for the Naive Bayes model is 62.19512195121951%\n"
     ]
    }
   ],
   "source": [
    "gnb_parameters = {'var_smoothing':[1e-3, 1e-6, 1e-9]}\n",
    "gnb = GaussianNB()\n",
    "clf4 = GridSearchCV(gnb, gnb_parameters)\n",
    "\n",
    "clf4.fit(X_train, y_train)\n",
    "preds_gnb = clf4.predict(X_test)\n",
    "accuracy_gnb2 = np.mean(y_test == preds_gnb)*100\n",
    "\n",
    "print('The accuracy for the Naive Bayes model is {}%'.format(accuracy_gnb2))"
   ]
  },
  {
   "cell_type": "code",
   "execution_count": 19,
   "metadata": {},
   "outputs": [
    {
     "name": "stdout",
     "output_type": "stream",
     "text": [
      "Class Accuracies:\n"
     ]
    },
    {
     "data": {
      "text/plain": [
       "Genre\n",
       "cityscape          0.034483\n",
       "flower painting    0.000000\n",
       "landscape          0.990196\n",
       "people             0.000000\n",
       "dtype: float64"
      ]
     },
     "execution_count": 19,
     "metadata": {},
     "output_type": "execute_result"
    }
   ],
   "source": [
    "classifier_df = pd.DataFrame({'True':y_test, \n",
    "                              'Predicted': preds_gnb})\n",
    "classifier_df['Genre'] = classifier_df['True'].replace(class_map)\n",
    "\n",
    "# Computing accuracy across classes\n",
    "print('Class Accuracies:')\n",
    "nb_accuracies = classifier_df.groupby('Genre').apply(lambda x: np.mean(x['True'] == x['Predicted']))\n",
    "nb_accuracies"
   ]
  },
  {
   "cell_type": "markdown",
   "metadata": {},
   "source": [
    "#### Random Forest"
   ]
  },
  {
   "cell_type": "code",
   "execution_count": 20,
   "metadata": {},
   "outputs": [
    {
     "name": "stdout",
     "output_type": "stream",
     "text": [
      "The accuracy for the Random Forest model is 79.26829268292683%\n"
     ]
    }
   ],
   "source": [
    "rf_parameters = {'n_estimators':[500, 100, 50, 10]}\n",
    "rf = RandomForestClassifier()\n",
    "clf5 = GridSearchCV(rf, rf_parameters)\n",
    "\n",
    "clf5.fit(X_train, y_train)\n",
    "preds_rf = clf5.predict(X_test)\n",
    "accuracy_rf2 = np.mean(y_test == preds_rf)*100\n",
    "\n",
    "print('The accuracy for the Random Forest model is {}%'.format(accuracy_rf2))"
   ]
  },
  {
   "cell_type": "code",
   "execution_count": 21,
   "metadata": {},
   "outputs": [
    {
     "name": "stdout",
     "output_type": "stream",
     "text": [
      "Class Accuracies:\n"
     ]
    },
    {
     "data": {
      "text/plain": [
       "Genre\n",
       "cityscape          0.568966\n",
       "flower painting    0.717391\n",
       "landscape          0.931373\n",
       "people             0.200000\n",
       "dtype: float64"
      ]
     },
     "execution_count": 21,
     "metadata": {},
     "output_type": "execute_result"
    }
   ],
   "source": [
    "classifier_df = pd.DataFrame({'True':y_test, \n",
    "                              'Predicted': preds_rf})\n",
    "classifier_df['Genre'] = classifier_df['True'].replace(class_map)\n",
    "\n",
    "# Computing accuracy across classes\n",
    "print('Class Accuracies:')\n",
    "rf_accuracies = classifier_df.groupby('Genre').apply(lambda x: np.mean(x['True'] == x['Predicted']))\n",
    "rf_accuracies"
   ]
  },
  {
   "cell_type": "markdown",
   "metadata": {},
   "source": [
    "Let's plot and summarize the final results."
   ]
  },
  {
   "cell_type": "code",
   "execution_count": 24,
   "metadata": {},
   "outputs": [
    {
     "data": {
      "image/png": "[encoded data removed]",
      "text/plain": [
       "<Figure size 720x432 with 1 Axes>"
      ]
     },
     "metadata": {
      "needs_background": "light"
     },
     "output_type": "display_data"
    }
   ],
   "source": [
    "# Raw Accuracies\n",
    "models = ['Logistic Regression', 'KNN', 'SVM', 'Naive Bayes', 'Random Forest']\n",
    "accuracies = [accuracy_lr, accuracy_knn2, accuracy_svc2, accuracy_gnb2, accuracy_rf2]\n",
    "plt.figure(figsize=(10, 6))\n",
    "plt.bar(models, accuracies)\n",
    "plt.ylim(0, 100)\n",
    "plt.ylabel('Accuracy')\n",
    "plt.title('Raw Accuracy');"
   ]
  },
  {
   "cell_type": "code",
   "execution_count": 25,
   "metadata": {},
   "outputs": [
    {
     "data": {
      "image/png": "[encoded data removed]",
      "text/plain": [
       "<Figure size 720x432 with 1 Axes>"
      ]
     },
     "metadata": {
      "needs_background": "light"
     },
     "output_type": "display_data"
    }
   ],
   "source": [
    "# Class accuracies\n",
    "\n",
    "formatted_accuracies = list(zip(lr_accuracies, knn_accuracies, \n",
    "                                svm_accuracies, nb_accuracies, rf_accuracies))\n",
    "df = pd.DataFrame(dict(graph=models,\n",
    "                       cityscape=formatted_accuracies[0], \n",
    "                       flower_painting=formatted_accuracies[1], \n",
    "                       landscape=formatted_accuracies[2], \n",
    "                       people=formatted_accuracies[3])\n",
    "                 ) \n",
    "\n",
    "ind = np.arange(len(df))\n",
    "width = .2\n",
    "\n",
    "fig, ax = plt.subplots(figsize=(10,6))\n",
    "ax.bar(ind, df.cityscape, width, label='cityscape')\n",
    "ax.bar(ind + width, df.flower_painting, width, label='flower_painting')\n",
    "ax.bar(ind + (2*width), df.landscape, width, label='landscape')\n",
    "ax.bar(ind + (3*width), df.people, width, label='people')\n",
    "\n",
    "ax.set(xticks=ind + width, xticklabels=df.graph, xlim=[2*width - 1, len(df)])\n",
    "ax.legend()\n",
    "ax.set_ylabel('Accuracy')\n",
    "ax.set_title('Class Accuracy')\n",
    "plt.show();"
   ]
  },
  {
   "cell_type": "markdown",
   "metadata": {},
   "source": [
    "### Discussion"
   ]
  },
  {
   "cell_type": "markdown",
   "metadata": {},
   "source": [
    "After running each of the models and assessing the results, we have determined that the Random Forest model was the best for the purpose of classifying Claude Monet's work. It had the highest accuracy as it ranged from 75-79%. The other models ranged from the low 60s to the low 70s. The Random Forest model also had the most reliable class accuracies. It was able to do a good job for the 'landscape' and 'flower painting' genres. It did a decent job on the 'cityscape' genre and a poor job on the 'people' genre. On the other hand, the K Nearest Neighbors, Support Vector Machine, and Naive Bayes models all primarily classified the images as 'landscape' which was the largest genre in the data set (made up 60%). This made them all perform poorly on the other genres. Logistic Regression performed better than these three but fell short of beating the Random Forest model.\n",
    "\n",
    "To determine if the Random Forest model is respectable, we can make a few comparisons. If a trivial classifier that classified each image uniformly was built, we would expect an accuracy of 25%. If another classifier that classified each image as 'landscape' was made, we would achieve an accuracy of 60%. Given that the model constructed above beats these metrics by a large margin, we have reason to believe that the model did indeed learn from the features we engineered and could distinguish different genres. Of course, there are issues with the model. For example, the model did poorly in classifying the 'people' genre. This could be a problem with the data however as it could simply be that the images in that genre are just similar to those in the other genres, so the model has a hard time distinguishing them. We initially believed that maybe this was due to the fact that we grouped a few genres into the 'people' genre. However, after rerunning the models, it appears that this did not affect the model. \n",
    "\n",
    "Overall, we are pretty happy with these results. It exceeded the accuracy we anticipated, and it showed promise in being able to classify Monet's work."
   ]
  }
 ],
 "metadata": {
  "kernelspec": {
   "display_name": "Python 3",
   "language": "python",
   "name": "python3"
  },
  "language_info": {
   "codemirror_mode": {
    "name": "ipython",
    "version": 3
   },
   "file_extension": ".py",
   "mimetype": "text/x-python",
   "name": "python",
   "nbconvert_exporter": "python",
   "pygments_lexer": "ipython3",
   "version": "3.7.3"
  }
 },
 "nbformat": 4,
 "nbformat_minor": 2
}
